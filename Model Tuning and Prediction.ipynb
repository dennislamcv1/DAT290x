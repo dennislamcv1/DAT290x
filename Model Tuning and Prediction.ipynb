{
 "cells": [
  {
   "cell_type": "code",
   "execution_count": 45,
   "metadata": {},
   "outputs": [],
   "source": [
    "import numpy as np\n",
    "import pandas as pd\n",
    "import matplotlib.pyplot as plt\n",
    "import seaborn as sns\n",
    "import sklearn\n",
    "import xgboost as xgb\n",
    "\n",
    "%matplotlib inline\n",
    "\n",
    "np.random.seed(5)\n",
    "\n",
    "from sklearn.model_selection import train_test_split, RandomizedSearchCV, GridSearchCV\n",
    "from sklearn.model_selection import cross_val_score\n",
    "\n",
    "from sklearn.ensemble import GradientBoostingClassifier\n",
    "from sklearn.metrics import confusion_matrix, classification_report, plot_confusion_matrix, plot_roc_curve\n",
    "from sklearn.metrics import accuracy_score, f1_score, precision_score, recall_score, log_loss\n",
    "from xgboost.sklearn import XGBClassifier\n",
    "from xgboost import plot_importance"
   ]
  },
  {
   "cell_type": "code",
   "execution_count": 2,
   "metadata": {},
   "outputs": [],
   "source": [
    "df = pd.read_csv(\"train.csv\")"
   ]
  },
  {
   "cell_type": "code",
   "execution_count": 3,
   "metadata": {},
   "outputs": [
    {
     "data": {
      "text/html": [
       "<div>\n",
       "<style scoped>\n",
       "    .dataframe tbody tr th:only-of-type {\n",
       "        vertical-align: middle;\n",
       "    }\n",
       "\n",
       "    .dataframe tbody tr th {\n",
       "        vertical-align: top;\n",
       "    }\n",
       "\n",
       "    .dataframe thead th {\n",
       "        text-align: right;\n",
       "    }\n",
       "</style>\n",
       "<table border=\"1\" class=\"dataframe\">\n",
       "  <thead>\n",
       "    <tr style=\"text-align: right;\">\n",
       "      <th></th>\n",
       "      <th>count_floors_pre_eq</th>\n",
       "      <th>age</th>\n",
       "      <th>height</th>\n",
       "      <th>L1</th>\n",
       "      <th>L2</th>\n",
       "      <th>F1</th>\n",
       "      <th>F2</th>\n",
       "      <th>F3</th>\n",
       "      <th>F4</th>\n",
       "      <th>has_superstructure_adobe_mud</th>\n",
       "      <th>...</th>\n",
       "      <th>has_superstructure_stone_flag</th>\n",
       "      <th>has_superstructure_cement_mortar_stone</th>\n",
       "      <th>has_superstructure_mud_mortar_brick</th>\n",
       "      <th>has_superstructure_cement_mortar_brick</th>\n",
       "      <th>has_superstructure_timber</th>\n",
       "      <th>has_superstructure_bamboo</th>\n",
       "      <th>has_superstructure_rc_non_engineered</th>\n",
       "      <th>has_superstructure_rc_engineered</th>\n",
       "      <th>has_superstructure_other</th>\n",
       "      <th>damage_grade</th>\n",
       "    </tr>\n",
       "  </thead>\n",
       "  <tbody>\n",
       "    <tr>\n",
       "      <th>0</th>\n",
       "      <td>0.125</td>\n",
       "      <td>0.125</td>\n",
       "      <td>0.096774</td>\n",
       "      <td>0</td>\n",
       "      <td>1</td>\n",
       "      <td>0</td>\n",
       "      <td>0</td>\n",
       "      <td>0</td>\n",
       "      <td>0</td>\n",
       "      <td>0</td>\n",
       "      <td>...</td>\n",
       "      <td>0</td>\n",
       "      <td>0</td>\n",
       "      <td>0</td>\n",
       "      <td>0</td>\n",
       "      <td>0</td>\n",
       "      <td>0</td>\n",
       "      <td>0</td>\n",
       "      <td>0</td>\n",
       "      <td>0</td>\n",
       "      <td>2</td>\n",
       "    </tr>\n",
       "    <tr>\n",
       "      <th>1</th>\n",
       "      <td>0.250</td>\n",
       "      <td>0.075</td>\n",
       "      <td>0.129032</td>\n",
       "      <td>0</td>\n",
       "      <td>1</td>\n",
       "      <td>0</td>\n",
       "      <td>0</td>\n",
       "      <td>0</td>\n",
       "      <td>0</td>\n",
       "      <td>0</td>\n",
       "      <td>...</td>\n",
       "      <td>0</td>\n",
       "      <td>0</td>\n",
       "      <td>0</td>\n",
       "      <td>0</td>\n",
       "      <td>0</td>\n",
       "      <td>0</td>\n",
       "      <td>0</td>\n",
       "      <td>0</td>\n",
       "      <td>0</td>\n",
       "      <td>3</td>\n",
       "    </tr>\n",
       "    <tr>\n",
       "      <th>2</th>\n",
       "      <td>0.000</td>\n",
       "      <td>0.100</td>\n",
       "      <td>0.032258</td>\n",
       "      <td>0</td>\n",
       "      <td>1</td>\n",
       "      <td>0</td>\n",
       "      <td>0</td>\n",
       "      <td>0</td>\n",
       "      <td>0</td>\n",
       "      <td>0</td>\n",
       "      <td>...</td>\n",
       "      <td>0</td>\n",
       "      <td>0</td>\n",
       "      <td>1</td>\n",
       "      <td>0</td>\n",
       "      <td>0</td>\n",
       "      <td>0</td>\n",
       "      <td>0</td>\n",
       "      <td>0</td>\n",
       "      <td>0</td>\n",
       "      <td>2</td>\n",
       "    </tr>\n",
       "    <tr>\n",
       "      <th>3</th>\n",
       "      <td>0.125</td>\n",
       "      <td>0.025</td>\n",
       "      <td>0.064516</td>\n",
       "      <td>0</td>\n",
       "      <td>1</td>\n",
       "      <td>0</td>\n",
       "      <td>0</td>\n",
       "      <td>0</td>\n",
       "      <td>0</td>\n",
       "      <td>0</td>\n",
       "      <td>...</td>\n",
       "      <td>0</td>\n",
       "      <td>0</td>\n",
       "      <td>0</td>\n",
       "      <td>0</td>\n",
       "      <td>0</td>\n",
       "      <td>0</td>\n",
       "      <td>0</td>\n",
       "      <td>0</td>\n",
       "      <td>0</td>\n",
       "      <td>2</td>\n",
       "    </tr>\n",
       "    <tr>\n",
       "      <th>4</th>\n",
       "      <td>0.250</td>\n",
       "      <td>0.000</td>\n",
       "      <td>0.161290</td>\n",
       "      <td>0</td>\n",
       "      <td>1</td>\n",
       "      <td>0</td>\n",
       "      <td>0</td>\n",
       "      <td>0</td>\n",
       "      <td>0</td>\n",
       "      <td>0</td>\n",
       "      <td>...</td>\n",
       "      <td>0</td>\n",
       "      <td>0</td>\n",
       "      <td>0</td>\n",
       "      <td>0</td>\n",
       "      <td>0</td>\n",
       "      <td>0</td>\n",
       "      <td>0</td>\n",
       "      <td>0</td>\n",
       "      <td>0</td>\n",
       "      <td>3</td>\n",
       "    </tr>\n",
       "  </tbody>\n",
       "</table>\n",
       "<p>5 rows × 21 columns</p>\n",
       "</div>"
      ],
      "text/plain": [
       "   count_floors_pre_eq    age    height  L1  L2  F1  F2  F3  F4  \\\n",
       "0                0.125  0.125  0.096774   0   1   0   0   0   0   \n",
       "1                0.250  0.075  0.129032   0   1   0   0   0   0   \n",
       "2                0.000  0.100  0.032258   0   1   0   0   0   0   \n",
       "3                0.125  0.025  0.064516   0   1   0   0   0   0   \n",
       "4                0.250  0.000  0.161290   0   1   0   0   0   0   \n",
       "\n",
       "   has_superstructure_adobe_mud  ...  has_superstructure_stone_flag  \\\n",
       "0                             0  ...                              0   \n",
       "1                             0  ...                              0   \n",
       "2                             0  ...                              0   \n",
       "3                             0  ...                              0   \n",
       "4                             0  ...                              0   \n",
       "\n",
       "   has_superstructure_cement_mortar_stone  \\\n",
       "0                                       0   \n",
       "1                                       0   \n",
       "2                                       0   \n",
       "3                                       0   \n",
       "4                                       0   \n",
       "\n",
       "   has_superstructure_mud_mortar_brick  \\\n",
       "0                                    0   \n",
       "1                                    0   \n",
       "2                                    1   \n",
       "3                                    0   \n",
       "4                                    0   \n",
       "\n",
       "   has_superstructure_cement_mortar_brick  has_superstructure_timber  \\\n",
       "0                                       0                          0   \n",
       "1                                       0                          0   \n",
       "2                                       0                          0   \n",
       "3                                       0                          0   \n",
       "4                                       0                          0   \n",
       "\n",
       "   has_superstructure_bamboo  has_superstructure_rc_non_engineered  \\\n",
       "0                          0                                     0   \n",
       "1                          0                                     0   \n",
       "2                          0                                     0   \n",
       "3                          0                                     0   \n",
       "4                          0                                     0   \n",
       "\n",
       "   has_superstructure_rc_engineered  has_superstructure_other  damage_grade  \n",
       "0                                 0                         0             2  \n",
       "1                                 0                         0             3  \n",
       "2                                 0                         0             2  \n",
       "3                                 0                         0             2  \n",
       "4                                 0                         0             3  \n",
       "\n",
       "[5 rows x 21 columns]"
      ]
     },
     "execution_count": 3,
     "metadata": {},
     "output_type": "execute_result"
    }
   ],
   "source": [
    "df.head()"
   ]
  },
  {
   "cell_type": "code",
   "execution_count": 4,
   "metadata": {},
   "outputs": [
    {
     "name": "stdout",
     "output_type": "stream",
     "text": [
      "<class 'pandas.core.frame.DataFrame'>\n",
      "RangeIndex: 10000 entries, 0 to 9999\n",
      "Data columns (total 21 columns):\n",
      "count_floors_pre_eq                       10000 non-null float64\n",
      "age                                       10000 non-null float64\n",
      "height                                    10000 non-null float64\n",
      "L1                                        10000 non-null int64\n",
      "L2                                        10000 non-null int64\n",
      "F1                                        10000 non-null int64\n",
      "F2                                        10000 non-null int64\n",
      "F3                                        10000 non-null int64\n",
      "F4                                        10000 non-null int64\n",
      "has_superstructure_adobe_mud              10000 non-null int64\n",
      "has_superstructure_mud_mortar_stone       10000 non-null int64\n",
      "has_superstructure_stone_flag             10000 non-null int64\n",
      "has_superstructure_cement_mortar_stone    10000 non-null int64\n",
      "has_superstructure_mud_mortar_brick       10000 non-null int64\n",
      "has_superstructure_cement_mortar_brick    10000 non-null int64\n",
      "has_superstructure_timber                 10000 non-null int64\n",
      "has_superstructure_bamboo                 10000 non-null int64\n",
      "has_superstructure_rc_non_engineered      10000 non-null int64\n",
      "has_superstructure_rc_engineered          10000 non-null int64\n",
      "has_superstructure_other                  10000 non-null int64\n",
      "damage_grade                              10000 non-null int64\n",
      "dtypes: float64(3), int64(18)\n",
      "memory usage: 1.6 MB\n"
     ]
    }
   ],
   "source": [
    "df.info()"
   ]
  },
  {
   "cell_type": "code",
   "execution_count": 5,
   "metadata": {},
   "outputs": [
    {
     "data": {
      "text/plain": [
       "(10000, 21)"
      ]
     },
     "execution_count": 5,
     "metadata": {},
     "output_type": "execute_result"
    }
   ],
   "source": [
    "df.shape"
   ]
  },
  {
   "cell_type": "code",
   "execution_count": 6,
   "metadata": {},
   "outputs": [
    {
     "data": {
      "text/html": [
       "<div>\n",
       "<style scoped>\n",
       "    .dataframe tbody tr th:only-of-type {\n",
       "        vertical-align: middle;\n",
       "    }\n",
       "\n",
       "    .dataframe tbody tr th {\n",
       "        vertical-align: top;\n",
       "    }\n",
       "\n",
       "    .dataframe thead th {\n",
       "        text-align: right;\n",
       "    }\n",
       "</style>\n",
       "<table border=\"1\" class=\"dataframe\">\n",
       "  <thead>\n",
       "    <tr style=\"text-align: right;\">\n",
       "      <th></th>\n",
       "      <th>count_floors_pre_eq</th>\n",
       "      <th>age</th>\n",
       "      <th>height</th>\n",
       "      <th>L1</th>\n",
       "      <th>L2</th>\n",
       "      <th>F1</th>\n",
       "      <th>F2</th>\n",
       "      <th>F3</th>\n",
       "      <th>F4</th>\n",
       "      <th>has_superstructure_adobe_mud</th>\n",
       "      <th>...</th>\n",
       "      <th>has_superstructure_stone_flag</th>\n",
       "      <th>has_superstructure_cement_mortar_stone</th>\n",
       "      <th>has_superstructure_mud_mortar_brick</th>\n",
       "      <th>has_superstructure_cement_mortar_brick</th>\n",
       "      <th>has_superstructure_timber</th>\n",
       "      <th>has_superstructure_bamboo</th>\n",
       "      <th>has_superstructure_rc_non_engineered</th>\n",
       "      <th>has_superstructure_rc_engineered</th>\n",
       "      <th>has_superstructure_other</th>\n",
       "      <th>damage_grade</th>\n",
       "    </tr>\n",
       "  </thead>\n",
       "  <tbody>\n",
       "    <tr>\n",
       "      <th>count_floors_pre_eq</th>\n",
       "      <td>1.000000</td>\n",
       "      <td>0.266738</td>\n",
       "      <td>0.771249</td>\n",
       "      <td>-0.039791</td>\n",
       "      <td>0.053204</td>\n",
       "      <td>0.039058</td>\n",
       "      <td>-0.092458</td>\n",
       "      <td>-0.139883</td>\n",
       "      <td>-0.035451</td>\n",
       "      <td>0.191729</td>\n",
       "      <td>...</td>\n",
       "      <td>-0.046939</td>\n",
       "      <td>-0.022753</td>\n",
       "      <td>0.248462</td>\n",
       "      <td>-0.088173</td>\n",
       "      <td>-0.062758</td>\n",
       "      <td>-0.081937</td>\n",
       "      <td>0.014083</td>\n",
       "      <td>0.052102</td>\n",
       "      <td>-0.012307</td>\n",
       "      <td>0.112296</td>\n",
       "    </tr>\n",
       "    <tr>\n",
       "      <th>age</th>\n",
       "      <td>0.266738</td>\n",
       "      <td>1.000000</td>\n",
       "      <td>0.196161</td>\n",
       "      <td>-0.010735</td>\n",
       "      <td>0.017908</td>\n",
       "      <td>-0.127851</td>\n",
       "      <td>-0.062623</td>\n",
       "      <td>-0.129352</td>\n",
       "      <td>-0.010662</td>\n",
       "      <td>0.206699</td>\n",
       "      <td>...</td>\n",
       "      <td>0.016219</td>\n",
       "      <td>-0.056352</td>\n",
       "      <td>0.243643</td>\n",
       "      <td>-0.105810</td>\n",
       "      <td>-0.037056</td>\n",
       "      <td>-0.060589</td>\n",
       "      <td>-0.075111</td>\n",
       "      <td>-0.079812</td>\n",
       "      <td>-0.011734</td>\n",
       "      <td>0.120480</td>\n",
       "    </tr>\n",
       "    <tr>\n",
       "      <th>height</th>\n",
       "      <td>0.771249</td>\n",
       "      <td>0.196161</td>\n",
       "      <td>1.000000</td>\n",
       "      <td>-0.029204</td>\n",
       "      <td>0.044081</td>\n",
       "      <td>0.161826</td>\n",
       "      <td>-0.026559</td>\n",
       "      <td>-0.109483</td>\n",
       "      <td>-0.012387</td>\n",
       "      <td>0.170447</td>\n",
       "      <td>...</td>\n",
       "      <td>-0.021707</td>\n",
       "      <td>0.007318</td>\n",
       "      <td>0.216115</td>\n",
       "      <td>0.009788</td>\n",
       "      <td>-0.054900</td>\n",
       "      <td>-0.079032</td>\n",
       "      <td>0.094436</td>\n",
       "      <td>0.133341</td>\n",
       "      <td>-0.009030</td>\n",
       "      <td>0.031728</td>\n",
       "    </tr>\n",
       "    <tr>\n",
       "      <th>L1</th>\n",
       "      <td>-0.039791</td>\n",
       "      <td>-0.010735</td>\n",
       "      <td>-0.029204</td>\n",
       "      <td>1.000000</td>\n",
       "      <td>-0.873332</td>\n",
       "      <td>-0.020032</td>\n",
       "      <td>-0.026333</td>\n",
       "      <td>-0.000968</td>\n",
       "      <td>-0.018853</td>\n",
       "      <td>-0.007574</td>\n",
       "      <td>...</td>\n",
       "      <td>0.030789</td>\n",
       "      <td>0.003228</td>\n",
       "      <td>-0.030517</td>\n",
       "      <td>-0.061426</td>\n",
       "      <td>0.033145</td>\n",
       "      <td>0.012764</td>\n",
       "      <td>-0.004012</td>\n",
       "      <td>-0.021425</td>\n",
       "      <td>0.044982</td>\n",
       "      <td>-0.008097</td>\n",
       "    </tr>\n",
       "    <tr>\n",
       "      <th>L2</th>\n",
       "      <td>0.053204</td>\n",
       "      <td>0.017908</td>\n",
       "      <td>0.044081</td>\n",
       "      <td>-0.873332</td>\n",
       "      <td>1.000000</td>\n",
       "      <td>0.019506</td>\n",
       "      <td>0.034314</td>\n",
       "      <td>-0.023681</td>\n",
       "      <td>0.019723</td>\n",
       "      <td>0.027558</td>\n",
       "      <td>...</td>\n",
       "      <td>-0.035259</td>\n",
       "      <td>-0.011552</td>\n",
       "      <td>0.044503</td>\n",
       "      <td>0.063252</td>\n",
       "      <td>-0.050416</td>\n",
       "      <td>-0.024415</td>\n",
       "      <td>0.006211</td>\n",
       "      <td>0.028160</td>\n",
       "      <td>-0.045694</td>\n",
       "      <td>0.007512</td>\n",
       "    </tr>\n",
       "    <tr>\n",
       "      <th>F1</th>\n",
       "      <td>0.039058</td>\n",
       "      <td>-0.127851</td>\n",
       "      <td>0.161826</td>\n",
       "      <td>-0.020032</td>\n",
       "      <td>0.019506</td>\n",
       "      <td>1.000000</td>\n",
       "      <td>-0.045284</td>\n",
       "      <td>-0.049086</td>\n",
       "      <td>-0.013651</td>\n",
       "      <td>-0.061703</td>\n",
       "      <td>...</td>\n",
       "      <td>-0.031406</td>\n",
       "      <td>0.108106</td>\n",
       "      <td>-0.040903</td>\n",
       "      <td>0.238469</td>\n",
       "      <td>-0.102016</td>\n",
       "      <td>-0.057208</td>\n",
       "      <td>0.509956</td>\n",
       "      <td>0.538391</td>\n",
       "      <td>-0.005581</td>\n",
       "      <td>-0.262966</td>\n",
       "    </tr>\n",
       "    <tr>\n",
       "      <th>F2</th>\n",
       "      <td>-0.092458</td>\n",
       "      <td>-0.062623</td>\n",
       "      <td>-0.026559</td>\n",
       "      <td>-0.026333</td>\n",
       "      <td>0.034314</td>\n",
       "      <td>-0.045284</td>\n",
       "      <td>1.000000</td>\n",
       "      <td>-0.057531</td>\n",
       "      <td>-0.016000</td>\n",
       "      <td>-0.053123</td>\n",
       "      <td>...</td>\n",
       "      <td>-0.013606</td>\n",
       "      <td>0.195611</td>\n",
       "      <td>0.004198</td>\n",
       "      <td>0.409767</td>\n",
       "      <td>-0.043015</td>\n",
       "      <td>-0.035877</td>\n",
       "      <td>0.057943</td>\n",
       "      <td>0.011930</td>\n",
       "      <td>-0.004289</td>\n",
       "      <td>-0.133999</td>\n",
       "    </tr>\n",
       "    <tr>\n",
       "      <th>F3</th>\n",
       "      <td>-0.139883</td>\n",
       "      <td>-0.129352</td>\n",
       "      <td>-0.109483</td>\n",
       "      <td>-0.000968</td>\n",
       "      <td>-0.023681</td>\n",
       "      <td>-0.049086</td>\n",
       "      <td>-0.057531</td>\n",
       "      <td>1.000000</td>\n",
       "      <td>-0.017343</td>\n",
       "      <td>-0.060524</td>\n",
       "      <td>...</td>\n",
       "      <td>-0.013867</td>\n",
       "      <td>-0.025405</td>\n",
       "      <td>-0.059474</td>\n",
       "      <td>0.002367</td>\n",
       "      <td>0.327165</td>\n",
       "      <td>0.327151</td>\n",
       "      <td>-0.022752</td>\n",
       "      <td>-0.029540</td>\n",
       "      <td>0.024259</td>\n",
       "      <td>-0.171044</td>\n",
       "    </tr>\n",
       "    <tr>\n",
       "      <th>F4</th>\n",
       "      <td>-0.035451</td>\n",
       "      <td>-0.010662</td>\n",
       "      <td>-0.012387</td>\n",
       "      <td>-0.018853</td>\n",
       "      <td>0.019723</td>\n",
       "      <td>-0.013651</td>\n",
       "      <td>-0.016000</td>\n",
       "      <td>-0.017343</td>\n",
       "      <td>1.000000</td>\n",
       "      <td>0.003516</td>\n",
       "      <td>...</td>\n",
       "      <td>0.132228</td>\n",
       "      <td>0.000933</td>\n",
       "      <td>0.003988</td>\n",
       "      <td>0.019640</td>\n",
       "      <td>0.038807</td>\n",
       "      <td>0.009158</td>\n",
       "      <td>-0.006793</td>\n",
       "      <td>-0.008215</td>\n",
       "      <td>0.114410</td>\n",
       "      <td>-0.030599</td>\n",
       "    </tr>\n",
       "    <tr>\n",
       "      <th>has_superstructure_adobe_mud</th>\n",
       "      <td>0.191729</td>\n",
       "      <td>0.206699</td>\n",
       "      <td>0.170447</td>\n",
       "      <td>-0.007574</td>\n",
       "      <td>0.027558</td>\n",
       "      <td>-0.061703</td>\n",
       "      <td>-0.053123</td>\n",
       "      <td>-0.060524</td>\n",
       "      <td>0.003516</td>\n",
       "      <td>1.000000</td>\n",
       "      <td>...</td>\n",
       "      <td>0.029136</td>\n",
       "      <td>-0.010363</td>\n",
       "      <td>0.330837</td>\n",
       "      <td>-0.035132</td>\n",
       "      <td>0.010646</td>\n",
       "      <td>0.018970</td>\n",
       "      <td>-0.031931</td>\n",
       "      <td>-0.034133</td>\n",
       "      <td>0.060409</td>\n",
       "      <td>0.055371</td>\n",
       "    </tr>\n",
       "    <tr>\n",
       "      <th>has_superstructure_mud_mortar_stone</th>\n",
       "      <td>-0.031195</td>\n",
       "      <td>-0.000783</td>\n",
       "      <td>-0.118451</td>\n",
       "      <td>0.067288</td>\n",
       "      <td>-0.070237</td>\n",
       "      <td>-0.343606</td>\n",
       "      <td>-0.249614</td>\n",
       "      <td>-0.266602</td>\n",
       "      <td>-0.121072</td>\n",
       "      <td>-0.324098</td>\n",
       "      <td>...</td>\n",
       "      <td>-0.045563</td>\n",
       "      <td>-0.123764</td>\n",
       "      <td>-0.381318</td>\n",
       "      <td>-0.455779</td>\n",
       "      <td>-0.055471</td>\n",
       "      <td>-0.069629</td>\n",
       "      <td>-0.220728</td>\n",
       "      <td>-0.207985</td>\n",
       "      <td>-0.042910</td>\n",
       "      <td>0.277533</td>\n",
       "    </tr>\n",
       "    <tr>\n",
       "      <th>has_superstructure_stone_flag</th>\n",
       "      <td>-0.046939</td>\n",
       "      <td>0.016219</td>\n",
       "      <td>-0.021707</td>\n",
       "      <td>0.030789</td>\n",
       "      <td>-0.035259</td>\n",
       "      <td>-0.031406</td>\n",
       "      <td>-0.013606</td>\n",
       "      <td>-0.013867</td>\n",
       "      <td>0.132228</td>\n",
       "      <td>0.029136</td>\n",
       "      <td>...</td>\n",
       "      <td>1.000000</td>\n",
       "      <td>0.040079</td>\n",
       "      <td>-0.038441</td>\n",
       "      <td>-0.037763</td>\n",
       "      <td>0.128369</td>\n",
       "      <td>0.065964</td>\n",
       "      <td>0.009109</td>\n",
       "      <td>-0.020768</td>\n",
       "      <td>0.078605</td>\n",
       "      <td>0.050477</td>\n",
       "    </tr>\n",
       "    <tr>\n",
       "      <th>has_superstructure_cement_mortar_stone</th>\n",
       "      <td>-0.022753</td>\n",
       "      <td>-0.056352</td>\n",
       "      <td>0.007318</td>\n",
       "      <td>0.003228</td>\n",
       "      <td>-0.011552</td>\n",
       "      <td>0.108106</td>\n",
       "      <td>0.195611</td>\n",
       "      <td>-0.025405</td>\n",
       "      <td>0.000933</td>\n",
       "      <td>-0.010363</td>\n",
       "      <td>...</td>\n",
       "      <td>0.040079</td>\n",
       "      <td>1.000000</td>\n",
       "      <td>0.011367</td>\n",
       "      <td>0.082550</td>\n",
       "      <td>0.022388</td>\n",
       "      <td>-0.012075</td>\n",
       "      <td>0.091204</td>\n",
       "      <td>0.046324</td>\n",
       "      <td>0.008207</td>\n",
       "      <td>-0.073337</td>\n",
       "    </tr>\n",
       "    <tr>\n",
       "      <th>has_superstructure_mud_mortar_brick</th>\n",
       "      <td>0.248462</td>\n",
       "      <td>0.243643</td>\n",
       "      <td>0.216115</td>\n",
       "      <td>-0.030517</td>\n",
       "      <td>0.044503</td>\n",
       "      <td>-0.040903</td>\n",
       "      <td>0.004198</td>\n",
       "      <td>-0.059474</td>\n",
       "      <td>0.003988</td>\n",
       "      <td>0.330837</td>\n",
       "      <td>...</td>\n",
       "      <td>-0.038441</td>\n",
       "      <td>0.011367</td>\n",
       "      <td>1.000000</td>\n",
       "      <td>0.048937</td>\n",
       "      <td>-0.024617</td>\n",
       "      <td>-0.014439</td>\n",
       "      <td>-0.025242</td>\n",
       "      <td>-0.025380</td>\n",
       "      <td>0.034511</td>\n",
       "      <td>0.003115</td>\n",
       "    </tr>\n",
       "    <tr>\n",
       "      <th>has_superstructure_cement_mortar_brick</th>\n",
       "      <td>-0.088173</td>\n",
       "      <td>-0.105810</td>\n",
       "      <td>0.009788</td>\n",
       "      <td>-0.061426</td>\n",
       "      <td>0.063252</td>\n",
       "      <td>0.238469</td>\n",
       "      <td>0.409767</td>\n",
       "      <td>0.002367</td>\n",
       "      <td>0.019640</td>\n",
       "      <td>-0.035132</td>\n",
       "      <td>...</td>\n",
       "      <td>-0.037763</td>\n",
       "      <td>0.082550</td>\n",
       "      <td>0.048937</td>\n",
       "      <td>1.000000</td>\n",
       "      <td>-0.049187</td>\n",
       "      <td>-0.051238</td>\n",
       "      <td>0.127915</td>\n",
       "      <td>0.115680</td>\n",
       "      <td>0.002543</td>\n",
       "      <td>-0.233398</td>\n",
       "    </tr>\n",
       "    <tr>\n",
       "      <th>has_superstructure_timber</th>\n",
       "      <td>-0.062758</td>\n",
       "      <td>-0.037056</td>\n",
       "      <td>-0.054900</td>\n",
       "      <td>0.033145</td>\n",
       "      <td>-0.050416</td>\n",
       "      <td>-0.102016</td>\n",
       "      <td>-0.043015</td>\n",
       "      <td>0.327165</td>\n",
       "      <td>0.038807</td>\n",
       "      <td>0.010646</td>\n",
       "      <td>...</td>\n",
       "      <td>0.128369</td>\n",
       "      <td>0.022388</td>\n",
       "      <td>-0.024617</td>\n",
       "      <td>-0.049187</td>\n",
       "      <td>1.000000</td>\n",
       "      <td>0.452288</td>\n",
       "      <td>-0.025067</td>\n",
       "      <td>-0.063516</td>\n",
       "      <td>0.120263</td>\n",
       "      <td>-0.080558</td>\n",
       "    </tr>\n",
       "    <tr>\n",
       "      <th>has_superstructure_bamboo</th>\n",
       "      <td>-0.081937</td>\n",
       "      <td>-0.060589</td>\n",
       "      <td>-0.079032</td>\n",
       "      <td>0.012764</td>\n",
       "      <td>-0.024415</td>\n",
       "      <td>-0.057208</td>\n",
       "      <td>-0.035877</td>\n",
       "      <td>0.327151</td>\n",
       "      <td>0.009158</td>\n",
       "      <td>0.018970</td>\n",
       "      <td>...</td>\n",
       "      <td>0.065964</td>\n",
       "      <td>-0.012075</td>\n",
       "      <td>-0.014439</td>\n",
       "      <td>-0.051238</td>\n",
       "      <td>0.452288</td>\n",
       "      <td>1.000000</td>\n",
       "      <td>0.019701</td>\n",
       "      <td>-0.033646</td>\n",
       "      <td>0.130838</td>\n",
       "      <td>-0.072327</td>\n",
       "    </tr>\n",
       "    <tr>\n",
       "      <th>has_superstructure_rc_non_engineered</th>\n",
       "      <td>0.014083</td>\n",
       "      <td>-0.075111</td>\n",
       "      <td>0.094436</td>\n",
       "      <td>-0.004012</td>\n",
       "      <td>0.006211</td>\n",
       "      <td>0.509956</td>\n",
       "      <td>0.057943</td>\n",
       "      <td>-0.022752</td>\n",
       "      <td>-0.006793</td>\n",
       "      <td>-0.031931</td>\n",
       "      <td>...</td>\n",
       "      <td>0.009109</td>\n",
       "      <td>0.091204</td>\n",
       "      <td>-0.025242</td>\n",
       "      <td>0.127915</td>\n",
       "      <td>-0.025067</td>\n",
       "      <td>0.019701</td>\n",
       "      <td>1.000000</td>\n",
       "      <td>0.010848</td>\n",
       "      <td>-0.011426</td>\n",
       "      <td>-0.156371</td>\n",
       "    </tr>\n",
       "    <tr>\n",
       "      <th>has_superstructure_rc_engineered</th>\n",
       "      <td>0.052102</td>\n",
       "      <td>-0.079812</td>\n",
       "      <td>0.133341</td>\n",
       "      <td>-0.021425</td>\n",
       "      <td>0.028160</td>\n",
       "      <td>0.538391</td>\n",
       "      <td>0.011930</td>\n",
       "      <td>-0.029540</td>\n",
       "      <td>-0.008215</td>\n",
       "      <td>-0.034133</td>\n",
       "      <td>...</td>\n",
       "      <td>-0.020768</td>\n",
       "      <td>0.046324</td>\n",
       "      <td>-0.025380</td>\n",
       "      <td>0.115680</td>\n",
       "      <td>-0.063516</td>\n",
       "      <td>-0.033646</td>\n",
       "      <td>0.010848</td>\n",
       "      <td>1.000000</td>\n",
       "      <td>-0.014147</td>\n",
       "      <td>-0.179761</td>\n",
       "    </tr>\n",
       "    <tr>\n",
       "      <th>has_superstructure_other</th>\n",
       "      <td>-0.012307</td>\n",
       "      <td>-0.011734</td>\n",
       "      <td>-0.009030</td>\n",
       "      <td>0.044982</td>\n",
       "      <td>-0.045694</td>\n",
       "      <td>-0.005581</td>\n",
       "      <td>-0.004289</td>\n",
       "      <td>0.024259</td>\n",
       "      <td>0.114410</td>\n",
       "      <td>0.060409</td>\n",
       "      <td>...</td>\n",
       "      <td>0.078605</td>\n",
       "      <td>0.008207</td>\n",
       "      <td>0.034511</td>\n",
       "      <td>0.002543</td>\n",
       "      <td>0.120263</td>\n",
       "      <td>0.130838</td>\n",
       "      <td>-0.011426</td>\n",
       "      <td>-0.014147</td>\n",
       "      <td>1.000000</td>\n",
       "      <td>-0.019515</td>\n",
       "    </tr>\n",
       "    <tr>\n",
       "      <th>damage_grade</th>\n",
       "      <td>0.112296</td>\n",
       "      <td>0.120480</td>\n",
       "      <td>0.031728</td>\n",
       "      <td>-0.008097</td>\n",
       "      <td>0.007512</td>\n",
       "      <td>-0.262966</td>\n",
       "      <td>-0.133999</td>\n",
       "      <td>-0.171044</td>\n",
       "      <td>-0.030599</td>\n",
       "      <td>0.055371</td>\n",
       "      <td>...</td>\n",
       "      <td>0.050477</td>\n",
       "      <td>-0.073337</td>\n",
       "      <td>0.003115</td>\n",
       "      <td>-0.233398</td>\n",
       "      <td>-0.080558</td>\n",
       "      <td>-0.072327</td>\n",
       "      <td>-0.156371</td>\n",
       "      <td>-0.179761</td>\n",
       "      <td>-0.019515</td>\n",
       "      <td>1.000000</td>\n",
       "    </tr>\n",
       "  </tbody>\n",
       "</table>\n",
       "<p>21 rows × 21 columns</p>\n",
       "</div>"
      ],
      "text/plain": [
       "                                        count_floors_pre_eq       age  \\\n",
       "count_floors_pre_eq                                1.000000  0.266738   \n",
       "age                                                0.266738  1.000000   \n",
       "height                                             0.771249  0.196161   \n",
       "L1                                                -0.039791 -0.010735   \n",
       "L2                                                 0.053204  0.017908   \n",
       "F1                                                 0.039058 -0.127851   \n",
       "F2                                                -0.092458 -0.062623   \n",
       "F3                                                -0.139883 -0.129352   \n",
       "F4                                                -0.035451 -0.010662   \n",
       "has_superstructure_adobe_mud                       0.191729  0.206699   \n",
       "has_superstructure_mud_mortar_stone               -0.031195 -0.000783   \n",
       "has_superstructure_stone_flag                     -0.046939  0.016219   \n",
       "has_superstructure_cement_mortar_stone            -0.022753 -0.056352   \n",
       "has_superstructure_mud_mortar_brick                0.248462  0.243643   \n",
       "has_superstructure_cement_mortar_brick            -0.088173 -0.105810   \n",
       "has_superstructure_timber                         -0.062758 -0.037056   \n",
       "has_superstructure_bamboo                         -0.081937 -0.060589   \n",
       "has_superstructure_rc_non_engineered               0.014083 -0.075111   \n",
       "has_superstructure_rc_engineered                   0.052102 -0.079812   \n",
       "has_superstructure_other                          -0.012307 -0.011734   \n",
       "damage_grade                                       0.112296  0.120480   \n",
       "\n",
       "                                          height        L1        L2  \\\n",
       "count_floors_pre_eq                     0.771249 -0.039791  0.053204   \n",
       "age                                     0.196161 -0.010735  0.017908   \n",
       "height                                  1.000000 -0.029204  0.044081   \n",
       "L1                                     -0.029204  1.000000 -0.873332   \n",
       "L2                                      0.044081 -0.873332  1.000000   \n",
       "F1                                      0.161826 -0.020032  0.019506   \n",
       "F2                                     -0.026559 -0.026333  0.034314   \n",
       "F3                                     -0.109483 -0.000968 -0.023681   \n",
       "F4                                     -0.012387 -0.018853  0.019723   \n",
       "has_superstructure_adobe_mud            0.170447 -0.007574  0.027558   \n",
       "has_superstructure_mud_mortar_stone    -0.118451  0.067288 -0.070237   \n",
       "has_superstructure_stone_flag          -0.021707  0.030789 -0.035259   \n",
       "has_superstructure_cement_mortar_stone  0.007318  0.003228 -0.011552   \n",
       "has_superstructure_mud_mortar_brick     0.216115 -0.030517  0.044503   \n",
       "has_superstructure_cement_mortar_brick  0.009788 -0.061426  0.063252   \n",
       "has_superstructure_timber              -0.054900  0.033145 -0.050416   \n",
       "has_superstructure_bamboo              -0.079032  0.012764 -0.024415   \n",
       "has_superstructure_rc_non_engineered    0.094436 -0.004012  0.006211   \n",
       "has_superstructure_rc_engineered        0.133341 -0.021425  0.028160   \n",
       "has_superstructure_other               -0.009030  0.044982 -0.045694   \n",
       "damage_grade                            0.031728 -0.008097  0.007512   \n",
       "\n",
       "                                              F1        F2        F3  \\\n",
       "count_floors_pre_eq                     0.039058 -0.092458 -0.139883   \n",
       "age                                    -0.127851 -0.062623 -0.129352   \n",
       "height                                  0.161826 -0.026559 -0.109483   \n",
       "L1                                     -0.020032 -0.026333 -0.000968   \n",
       "L2                                      0.019506  0.034314 -0.023681   \n",
       "F1                                      1.000000 -0.045284 -0.049086   \n",
       "F2                                     -0.045284  1.000000 -0.057531   \n",
       "F3                                     -0.049086 -0.057531  1.000000   \n",
       "F4                                     -0.013651 -0.016000 -0.017343   \n",
       "has_superstructure_adobe_mud           -0.061703 -0.053123 -0.060524   \n",
       "has_superstructure_mud_mortar_stone    -0.343606 -0.249614 -0.266602   \n",
       "has_superstructure_stone_flag          -0.031406 -0.013606 -0.013867   \n",
       "has_superstructure_cement_mortar_stone  0.108106  0.195611 -0.025405   \n",
       "has_superstructure_mud_mortar_brick    -0.040903  0.004198 -0.059474   \n",
       "has_superstructure_cement_mortar_brick  0.238469  0.409767  0.002367   \n",
       "has_superstructure_timber              -0.102016 -0.043015  0.327165   \n",
       "has_superstructure_bamboo              -0.057208 -0.035877  0.327151   \n",
       "has_superstructure_rc_non_engineered    0.509956  0.057943 -0.022752   \n",
       "has_superstructure_rc_engineered        0.538391  0.011930 -0.029540   \n",
       "has_superstructure_other               -0.005581 -0.004289  0.024259   \n",
       "damage_grade                           -0.262966 -0.133999 -0.171044   \n",
       "\n",
       "                                              F4  \\\n",
       "count_floors_pre_eq                    -0.035451   \n",
       "age                                    -0.010662   \n",
       "height                                 -0.012387   \n",
       "L1                                     -0.018853   \n",
       "L2                                      0.019723   \n",
       "F1                                     -0.013651   \n",
       "F2                                     -0.016000   \n",
       "F3                                     -0.017343   \n",
       "F4                                      1.000000   \n",
       "has_superstructure_adobe_mud            0.003516   \n",
       "has_superstructure_mud_mortar_stone    -0.121072   \n",
       "has_superstructure_stone_flag           0.132228   \n",
       "has_superstructure_cement_mortar_stone  0.000933   \n",
       "has_superstructure_mud_mortar_brick     0.003988   \n",
       "has_superstructure_cement_mortar_brick  0.019640   \n",
       "has_superstructure_timber               0.038807   \n",
       "has_superstructure_bamboo               0.009158   \n",
       "has_superstructure_rc_non_engineered   -0.006793   \n",
       "has_superstructure_rc_engineered       -0.008215   \n",
       "has_superstructure_other                0.114410   \n",
       "damage_grade                           -0.030599   \n",
       "\n",
       "                                        has_superstructure_adobe_mud  ...  \\\n",
       "count_floors_pre_eq                                         0.191729  ...   \n",
       "age                                                         0.206699  ...   \n",
       "height                                                      0.170447  ...   \n",
       "L1                                                         -0.007574  ...   \n",
       "L2                                                          0.027558  ...   \n",
       "F1                                                         -0.061703  ...   \n",
       "F2                                                         -0.053123  ...   \n",
       "F3                                                         -0.060524  ...   \n",
       "F4                                                          0.003516  ...   \n",
       "has_superstructure_adobe_mud                                1.000000  ...   \n",
       "has_superstructure_mud_mortar_stone                        -0.324098  ...   \n",
       "has_superstructure_stone_flag                               0.029136  ...   \n",
       "has_superstructure_cement_mortar_stone                     -0.010363  ...   \n",
       "has_superstructure_mud_mortar_brick                         0.330837  ...   \n",
       "has_superstructure_cement_mortar_brick                     -0.035132  ...   \n",
       "has_superstructure_timber                                   0.010646  ...   \n",
       "has_superstructure_bamboo                                   0.018970  ...   \n",
       "has_superstructure_rc_non_engineered                       -0.031931  ...   \n",
       "has_superstructure_rc_engineered                           -0.034133  ...   \n",
       "has_superstructure_other                                    0.060409  ...   \n",
       "damage_grade                                                0.055371  ...   \n",
       "\n",
       "                                        has_superstructure_stone_flag  \\\n",
       "count_floors_pre_eq                                         -0.046939   \n",
       "age                                                          0.016219   \n",
       "height                                                      -0.021707   \n",
       "L1                                                           0.030789   \n",
       "L2                                                          -0.035259   \n",
       "F1                                                          -0.031406   \n",
       "F2                                                          -0.013606   \n",
       "F3                                                          -0.013867   \n",
       "F4                                                           0.132228   \n",
       "has_superstructure_adobe_mud                                 0.029136   \n",
       "has_superstructure_mud_mortar_stone                         -0.045563   \n",
       "has_superstructure_stone_flag                                1.000000   \n",
       "has_superstructure_cement_mortar_stone                       0.040079   \n",
       "has_superstructure_mud_mortar_brick                         -0.038441   \n",
       "has_superstructure_cement_mortar_brick                      -0.037763   \n",
       "has_superstructure_timber                                    0.128369   \n",
       "has_superstructure_bamboo                                    0.065964   \n",
       "has_superstructure_rc_non_engineered                         0.009109   \n",
       "has_superstructure_rc_engineered                            -0.020768   \n",
       "has_superstructure_other                                     0.078605   \n",
       "damage_grade                                                 0.050477   \n",
       "\n",
       "                                        has_superstructure_cement_mortar_stone  \\\n",
       "count_floors_pre_eq                                                  -0.022753   \n",
       "age                                                                  -0.056352   \n",
       "height                                                                0.007318   \n",
       "L1                                                                    0.003228   \n",
       "L2                                                                   -0.011552   \n",
       "F1                                                                    0.108106   \n",
       "F2                                                                    0.195611   \n",
       "F3                                                                   -0.025405   \n",
       "F4                                                                    0.000933   \n",
       "has_superstructure_adobe_mud                                         -0.010363   \n",
       "has_superstructure_mud_mortar_stone                                  -0.123764   \n",
       "has_superstructure_stone_flag                                         0.040079   \n",
       "has_superstructure_cement_mortar_stone                                1.000000   \n",
       "has_superstructure_mud_mortar_brick                                   0.011367   \n",
       "has_superstructure_cement_mortar_brick                                0.082550   \n",
       "has_superstructure_timber                                             0.022388   \n",
       "has_superstructure_bamboo                                            -0.012075   \n",
       "has_superstructure_rc_non_engineered                                  0.091204   \n",
       "has_superstructure_rc_engineered                                      0.046324   \n",
       "has_superstructure_other                                              0.008207   \n",
       "damage_grade                                                         -0.073337   \n",
       "\n",
       "                                        has_superstructure_mud_mortar_brick  \\\n",
       "count_floors_pre_eq                                                0.248462   \n",
       "age                                                                0.243643   \n",
       "height                                                             0.216115   \n",
       "L1                                                                -0.030517   \n",
       "L2                                                                 0.044503   \n",
       "F1                                                                -0.040903   \n",
       "F2                                                                 0.004198   \n",
       "F3                                                                -0.059474   \n",
       "F4                                                                 0.003988   \n",
       "has_superstructure_adobe_mud                                       0.330837   \n",
       "has_superstructure_mud_mortar_stone                               -0.381318   \n",
       "has_superstructure_stone_flag                                     -0.038441   \n",
       "has_superstructure_cement_mortar_stone                             0.011367   \n",
       "has_superstructure_mud_mortar_brick                                1.000000   \n",
       "has_superstructure_cement_mortar_brick                             0.048937   \n",
       "has_superstructure_timber                                         -0.024617   \n",
       "has_superstructure_bamboo                                         -0.014439   \n",
       "has_superstructure_rc_non_engineered                              -0.025242   \n",
       "has_superstructure_rc_engineered                                  -0.025380   \n",
       "has_superstructure_other                                           0.034511   \n",
       "damage_grade                                                       0.003115   \n",
       "\n",
       "                                        has_superstructure_cement_mortar_brick  \\\n",
       "count_floors_pre_eq                                                  -0.088173   \n",
       "age                                                                  -0.105810   \n",
       "height                                                                0.009788   \n",
       "L1                                                                   -0.061426   \n",
       "L2                                                                    0.063252   \n",
       "F1                                                                    0.238469   \n",
       "F2                                                                    0.409767   \n",
       "F3                                                                    0.002367   \n",
       "F4                                                                    0.019640   \n",
       "has_superstructure_adobe_mud                                         -0.035132   \n",
       "has_superstructure_mud_mortar_stone                                  -0.455779   \n",
       "has_superstructure_stone_flag                                        -0.037763   \n",
       "has_superstructure_cement_mortar_stone                                0.082550   \n",
       "has_superstructure_mud_mortar_brick                                   0.048937   \n",
       "has_superstructure_cement_mortar_brick                                1.000000   \n",
       "has_superstructure_timber                                            -0.049187   \n",
       "has_superstructure_bamboo                                            -0.051238   \n",
       "has_superstructure_rc_non_engineered                                  0.127915   \n",
       "has_superstructure_rc_engineered                                      0.115680   \n",
       "has_superstructure_other                                              0.002543   \n",
       "damage_grade                                                         -0.233398   \n",
       "\n",
       "                                        has_superstructure_timber  \\\n",
       "count_floors_pre_eq                                     -0.062758   \n",
       "age                                                     -0.037056   \n",
       "height                                                  -0.054900   \n",
       "L1                                                       0.033145   \n",
       "L2                                                      -0.050416   \n",
       "F1                                                      -0.102016   \n",
       "F2                                                      -0.043015   \n",
       "F3                                                       0.327165   \n",
       "F4                                                       0.038807   \n",
       "has_superstructure_adobe_mud                             0.010646   \n",
       "has_superstructure_mud_mortar_stone                     -0.055471   \n",
       "has_superstructure_stone_flag                            0.128369   \n",
       "has_superstructure_cement_mortar_stone                   0.022388   \n",
       "has_superstructure_mud_mortar_brick                     -0.024617   \n",
       "has_superstructure_cement_mortar_brick                  -0.049187   \n",
       "has_superstructure_timber                                1.000000   \n",
       "has_superstructure_bamboo                                0.452288   \n",
       "has_superstructure_rc_non_engineered                    -0.025067   \n",
       "has_superstructure_rc_engineered                        -0.063516   \n",
       "has_superstructure_other                                 0.120263   \n",
       "damage_grade                                            -0.080558   \n",
       "\n",
       "                                        has_superstructure_bamboo  \\\n",
       "count_floors_pre_eq                                     -0.081937   \n",
       "age                                                     -0.060589   \n",
       "height                                                  -0.079032   \n",
       "L1                                                       0.012764   \n",
       "L2                                                      -0.024415   \n",
       "F1                                                      -0.057208   \n",
       "F2                                                      -0.035877   \n",
       "F3                                                       0.327151   \n",
       "F4                                                       0.009158   \n",
       "has_superstructure_adobe_mud                             0.018970   \n",
       "has_superstructure_mud_mortar_stone                     -0.069629   \n",
       "has_superstructure_stone_flag                            0.065964   \n",
       "has_superstructure_cement_mortar_stone                  -0.012075   \n",
       "has_superstructure_mud_mortar_brick                     -0.014439   \n",
       "has_superstructure_cement_mortar_brick                  -0.051238   \n",
       "has_superstructure_timber                                0.452288   \n",
       "has_superstructure_bamboo                                1.000000   \n",
       "has_superstructure_rc_non_engineered                     0.019701   \n",
       "has_superstructure_rc_engineered                        -0.033646   \n",
       "has_superstructure_other                                 0.130838   \n",
       "damage_grade                                            -0.072327   \n",
       "\n",
       "                                        has_superstructure_rc_non_engineered  \\\n",
       "count_floors_pre_eq                                                 0.014083   \n",
       "age                                                                -0.075111   \n",
       "height                                                              0.094436   \n",
       "L1                                                                 -0.004012   \n",
       "L2                                                                  0.006211   \n",
       "F1                                                                  0.509956   \n",
       "F2                                                                  0.057943   \n",
       "F3                                                                 -0.022752   \n",
       "F4                                                                 -0.006793   \n",
       "has_superstructure_adobe_mud                                       -0.031931   \n",
       "has_superstructure_mud_mortar_stone                                -0.220728   \n",
       "has_superstructure_stone_flag                                       0.009109   \n",
       "has_superstructure_cement_mortar_stone                              0.091204   \n",
       "has_superstructure_mud_mortar_brick                                -0.025242   \n",
       "has_superstructure_cement_mortar_brick                              0.127915   \n",
       "has_superstructure_timber                                          -0.025067   \n",
       "has_superstructure_bamboo                                           0.019701   \n",
       "has_superstructure_rc_non_engineered                                1.000000   \n",
       "has_superstructure_rc_engineered                                    0.010848   \n",
       "has_superstructure_other                                           -0.011426   \n",
       "damage_grade                                                       -0.156371   \n",
       "\n",
       "                                        has_superstructure_rc_engineered  \\\n",
       "count_floors_pre_eq                                             0.052102   \n",
       "age                                                            -0.079812   \n",
       "height                                                          0.133341   \n",
       "L1                                                             -0.021425   \n",
       "L2                                                              0.028160   \n",
       "F1                                                              0.538391   \n",
       "F2                                                              0.011930   \n",
       "F3                                                             -0.029540   \n",
       "F4                                                             -0.008215   \n",
       "has_superstructure_adobe_mud                                   -0.034133   \n",
       "has_superstructure_mud_mortar_stone                            -0.207985   \n",
       "has_superstructure_stone_flag                                  -0.020768   \n",
       "has_superstructure_cement_mortar_stone                          0.046324   \n",
       "has_superstructure_mud_mortar_brick                            -0.025380   \n",
       "has_superstructure_cement_mortar_brick                          0.115680   \n",
       "has_superstructure_timber                                      -0.063516   \n",
       "has_superstructure_bamboo                                      -0.033646   \n",
       "has_superstructure_rc_non_engineered                            0.010848   \n",
       "has_superstructure_rc_engineered                                1.000000   \n",
       "has_superstructure_other                                       -0.014147   \n",
       "damage_grade                                                   -0.179761   \n",
       "\n",
       "                                        has_superstructure_other  damage_grade  \n",
       "count_floors_pre_eq                                    -0.012307      0.112296  \n",
       "age                                                    -0.011734      0.120480  \n",
       "height                                                 -0.009030      0.031728  \n",
       "L1                                                      0.044982     -0.008097  \n",
       "L2                                                     -0.045694      0.007512  \n",
       "F1                                                     -0.005581     -0.262966  \n",
       "F2                                                     -0.004289     -0.133999  \n",
       "F3                                                      0.024259     -0.171044  \n",
       "F4                                                      0.114410     -0.030599  \n",
       "has_superstructure_adobe_mud                            0.060409      0.055371  \n",
       "has_superstructure_mud_mortar_stone                    -0.042910      0.277533  \n",
       "has_superstructure_stone_flag                           0.078605      0.050477  \n",
       "has_superstructure_cement_mortar_stone                  0.008207     -0.073337  \n",
       "has_superstructure_mud_mortar_brick                     0.034511      0.003115  \n",
       "has_superstructure_cement_mortar_brick                  0.002543     -0.233398  \n",
       "has_superstructure_timber                               0.120263     -0.080558  \n",
       "has_superstructure_bamboo                               0.130838     -0.072327  \n",
       "has_superstructure_rc_non_engineered                   -0.011426     -0.156371  \n",
       "has_superstructure_rc_engineered                       -0.014147     -0.179761  \n",
       "has_superstructure_other                                1.000000     -0.019515  \n",
       "damage_grade                                           -0.019515      1.000000  \n",
       "\n",
       "[21 rows x 21 columns]"
      ]
     },
     "execution_count": 6,
     "metadata": {},
     "output_type": "execute_result"
    }
   ],
   "source": [
    "df.corr()"
   ]
  },
  {
   "cell_type": "code",
   "execution_count": 7,
   "metadata": {},
   "outputs": [
    {
     "data": {
      "image/png": "[encoded data removed]",
      "text/plain": [
       "<Figure size 1800x1080 with 2 Axes>"
      ]
     },
     "metadata": {
      "needs_background": "light"
     },
     "output_type": "display_data"
    }
   ],
   "source": [
    "plt.figure(figsize=(25,15))\n",
    "sns.heatmap(data=df.corr(),cmap=\"coolwarm\",annot=True,fmt='.2g',linewidths=2)\n",
    "plt.show()"
   ]
  },
  {
   "cell_type": "code",
   "execution_count": 8,
   "metadata": {},
   "outputs": [
    {
     "data": {
      "image/png": "[encoded data removed]",
      "text/plain": [
       "<Figure size 432x288 with 1 Axes>"
      ]
     },
     "metadata": {
      "needs_background": "light"
     },
     "output_type": "display_data"
    }
   ],
   "source": [
    "sns.countplot(x='damage_grade', data=df)\n",
    "plt.show()"
   ]
  },
  {
   "cell_type": "markdown",
   "metadata": {},
   "source": [
    "### Sample a fraction for hyperparameter tuning"
   ]
  },
  {
   "cell_type": "code",
   "execution_count": 9,
   "metadata": {},
   "outputs": [],
   "source": [
    "df_sample = df.sample(frac=0.1, random_state=5)"
   ]
  },
  {
   "cell_type": "code",
   "execution_count": 10,
   "metadata": {},
   "outputs": [
    {
     "data": {
      "text/html": [
       "<div>\n",
       "<style scoped>\n",
       "    .dataframe tbody tr th:only-of-type {\n",
       "        vertical-align: middle;\n",
       "    }\n",
       "\n",
       "    .dataframe tbody tr th {\n",
       "        vertical-align: top;\n",
       "    }\n",
       "\n",
       "    .dataframe thead th {\n",
       "        text-align: right;\n",
       "    }\n",
       "</style>\n",
       "<table border=\"1\" class=\"dataframe\">\n",
       "  <thead>\n",
       "    <tr style=\"text-align: right;\">\n",
       "      <th></th>\n",
       "      <th>count_floors_pre_eq</th>\n",
       "      <th>age</th>\n",
       "      <th>height</th>\n",
       "      <th>L1</th>\n",
       "      <th>L2</th>\n",
       "      <th>F1</th>\n",
       "      <th>F2</th>\n",
       "      <th>F3</th>\n",
       "      <th>F4</th>\n",
       "      <th>has_superstructure_adobe_mud</th>\n",
       "      <th>...</th>\n",
       "      <th>has_superstructure_stone_flag</th>\n",
       "      <th>has_superstructure_cement_mortar_stone</th>\n",
       "      <th>has_superstructure_mud_mortar_brick</th>\n",
       "      <th>has_superstructure_cement_mortar_brick</th>\n",
       "      <th>has_superstructure_timber</th>\n",
       "      <th>has_superstructure_bamboo</th>\n",
       "      <th>has_superstructure_rc_non_engineered</th>\n",
       "      <th>has_superstructure_rc_engineered</th>\n",
       "      <th>has_superstructure_other</th>\n",
       "      <th>damage_grade</th>\n",
       "    </tr>\n",
       "  </thead>\n",
       "  <tbody>\n",
       "    <tr>\n",
       "      <th>7054</th>\n",
       "      <td>0.125</td>\n",
       "      <td>0.125</td>\n",
       "      <td>0.129032</td>\n",
       "      <td>0</td>\n",
       "      <td>1</td>\n",
       "      <td>0</td>\n",
       "      <td>0</td>\n",
       "      <td>0</td>\n",
       "      <td>0</td>\n",
       "      <td>0</td>\n",
       "      <td>...</td>\n",
       "      <td>0</td>\n",
       "      <td>0</td>\n",
       "      <td>0</td>\n",
       "      <td>0</td>\n",
       "      <td>0</td>\n",
       "      <td>0</td>\n",
       "      <td>0</td>\n",
       "      <td>0</td>\n",
       "      <td>0</td>\n",
       "      <td>2</td>\n",
       "    </tr>\n",
       "    <tr>\n",
       "      <th>442</th>\n",
       "      <td>0.125</td>\n",
       "      <td>0.100</td>\n",
       "      <td>0.129032</td>\n",
       "      <td>0</td>\n",
       "      <td>1</td>\n",
       "      <td>0</td>\n",
       "      <td>0</td>\n",
       "      <td>1</td>\n",
       "      <td>0</td>\n",
       "      <td>0</td>\n",
       "      <td>...</td>\n",
       "      <td>1</td>\n",
       "      <td>0</td>\n",
       "      <td>0</td>\n",
       "      <td>0</td>\n",
       "      <td>1</td>\n",
       "      <td>0</td>\n",
       "      <td>0</td>\n",
       "      <td>0</td>\n",
       "      <td>0</td>\n",
       "      <td>2</td>\n",
       "    </tr>\n",
       "    <tr>\n",
       "      <th>3954</th>\n",
       "      <td>0.125</td>\n",
       "      <td>0.025</td>\n",
       "      <td>0.129032</td>\n",
       "      <td>0</td>\n",
       "      <td>1</td>\n",
       "      <td>0</td>\n",
       "      <td>0</td>\n",
       "      <td>0</td>\n",
       "      <td>0</td>\n",
       "      <td>0</td>\n",
       "      <td>...</td>\n",
       "      <td>0</td>\n",
       "      <td>0</td>\n",
       "      <td>0</td>\n",
       "      <td>0</td>\n",
       "      <td>0</td>\n",
       "      <td>0</td>\n",
       "      <td>0</td>\n",
       "      <td>0</td>\n",
       "      <td>0</td>\n",
       "      <td>3</td>\n",
       "    </tr>\n",
       "    <tr>\n",
       "      <th>2288</th>\n",
       "      <td>0.000</td>\n",
       "      <td>0.025</td>\n",
       "      <td>0.064516</td>\n",
       "      <td>0</td>\n",
       "      <td>1</td>\n",
       "      <td>0</td>\n",
       "      <td>0</td>\n",
       "      <td>0</td>\n",
       "      <td>0</td>\n",
       "      <td>0</td>\n",
       "      <td>...</td>\n",
       "      <td>0</td>\n",
       "      <td>0</td>\n",
       "      <td>0</td>\n",
       "      <td>1</td>\n",
       "      <td>0</td>\n",
       "      <td>0</td>\n",
       "      <td>0</td>\n",
       "      <td>0</td>\n",
       "      <td>0</td>\n",
       "      <td>2</td>\n",
       "    </tr>\n",
       "    <tr>\n",
       "      <th>3196</th>\n",
       "      <td>0.125</td>\n",
       "      <td>1.000</td>\n",
       "      <td>0.096774</td>\n",
       "      <td>0</td>\n",
       "      <td>1</td>\n",
       "      <td>0</td>\n",
       "      <td>0</td>\n",
       "      <td>0</td>\n",
       "      <td>0</td>\n",
       "      <td>0</td>\n",
       "      <td>...</td>\n",
       "      <td>0</td>\n",
       "      <td>0</td>\n",
       "      <td>0</td>\n",
       "      <td>0</td>\n",
       "      <td>0</td>\n",
       "      <td>0</td>\n",
       "      <td>0</td>\n",
       "      <td>0</td>\n",
       "      <td>0</td>\n",
       "      <td>3</td>\n",
       "    </tr>\n",
       "    <tr>\n",
       "      <th>...</th>\n",
       "      <td>...</td>\n",
       "      <td>...</td>\n",
       "      <td>...</td>\n",
       "      <td>...</td>\n",
       "      <td>...</td>\n",
       "      <td>...</td>\n",
       "      <td>...</td>\n",
       "      <td>...</td>\n",
       "      <td>...</td>\n",
       "      <td>...</td>\n",
       "      <td>...</td>\n",
       "      <td>...</td>\n",
       "      <td>...</td>\n",
       "      <td>...</td>\n",
       "      <td>...</td>\n",
       "      <td>...</td>\n",
       "      <td>...</td>\n",
       "      <td>...</td>\n",
       "      <td>...</td>\n",
       "      <td>...</td>\n",
       "      <td>...</td>\n",
       "    </tr>\n",
       "    <tr>\n",
       "      <th>7236</th>\n",
       "      <td>0.125</td>\n",
       "      <td>0.050</td>\n",
       "      <td>0.129032</td>\n",
       "      <td>0</td>\n",
       "      <td>1</td>\n",
       "      <td>0</td>\n",
       "      <td>0</td>\n",
       "      <td>0</td>\n",
       "      <td>0</td>\n",
       "      <td>0</td>\n",
       "      <td>...</td>\n",
       "      <td>0</td>\n",
       "      <td>1</td>\n",
       "      <td>0</td>\n",
       "      <td>0</td>\n",
       "      <td>0</td>\n",
       "      <td>0</td>\n",
       "      <td>0</td>\n",
       "      <td>0</td>\n",
       "      <td>0</td>\n",
       "      <td>2</td>\n",
       "    </tr>\n",
       "    <tr>\n",
       "      <th>3777</th>\n",
       "      <td>0.250</td>\n",
       "      <td>0.025</td>\n",
       "      <td>0.096774</td>\n",
       "      <td>0</td>\n",
       "      <td>1</td>\n",
       "      <td>0</td>\n",
       "      <td>1</td>\n",
       "      <td>0</td>\n",
       "      <td>0</td>\n",
       "      <td>0</td>\n",
       "      <td>...</td>\n",
       "      <td>0</td>\n",
       "      <td>0</td>\n",
       "      <td>0</td>\n",
       "      <td>0</td>\n",
       "      <td>0</td>\n",
       "      <td>0</td>\n",
       "      <td>0</td>\n",
       "      <td>0</td>\n",
       "      <td>0</td>\n",
       "      <td>1</td>\n",
       "    </tr>\n",
       "    <tr>\n",
       "      <th>7419</th>\n",
       "      <td>0.125</td>\n",
       "      <td>0.075</td>\n",
       "      <td>0.064516</td>\n",
       "      <td>0</td>\n",
       "      <td>1</td>\n",
       "      <td>0</td>\n",
       "      <td>0</td>\n",
       "      <td>0</td>\n",
       "      <td>0</td>\n",
       "      <td>0</td>\n",
       "      <td>...</td>\n",
       "      <td>0</td>\n",
       "      <td>0</td>\n",
       "      <td>0</td>\n",
       "      <td>0</td>\n",
       "      <td>0</td>\n",
       "      <td>0</td>\n",
       "      <td>0</td>\n",
       "      <td>0</td>\n",
       "      <td>0</td>\n",
       "      <td>3</td>\n",
       "    </tr>\n",
       "    <tr>\n",
       "      <th>7914</th>\n",
       "      <td>0.125</td>\n",
       "      <td>0.150</td>\n",
       "      <td>0.096774</td>\n",
       "      <td>1</td>\n",
       "      <td>0</td>\n",
       "      <td>0</td>\n",
       "      <td>0</td>\n",
       "      <td>0</td>\n",
       "      <td>0</td>\n",
       "      <td>0</td>\n",
       "      <td>...</td>\n",
       "      <td>0</td>\n",
       "      <td>0</td>\n",
       "      <td>0</td>\n",
       "      <td>0</td>\n",
       "      <td>0</td>\n",
       "      <td>0</td>\n",
       "      <td>0</td>\n",
       "      <td>0</td>\n",
       "      <td>0</td>\n",
       "      <td>2</td>\n",
       "    </tr>\n",
       "    <tr>\n",
       "      <th>3170</th>\n",
       "      <td>0.000</td>\n",
       "      <td>0.000</td>\n",
       "      <td>0.064516</td>\n",
       "      <td>0</td>\n",
       "      <td>1</td>\n",
       "      <td>0</td>\n",
       "      <td>0</td>\n",
       "      <td>0</td>\n",
       "      <td>0</td>\n",
       "      <td>0</td>\n",
       "      <td>...</td>\n",
       "      <td>0</td>\n",
       "      <td>0</td>\n",
       "      <td>0</td>\n",
       "      <td>0</td>\n",
       "      <td>0</td>\n",
       "      <td>0</td>\n",
       "      <td>0</td>\n",
       "      <td>0</td>\n",
       "      <td>0</td>\n",
       "      <td>3</td>\n",
       "    </tr>\n",
       "  </tbody>\n",
       "</table>\n",
       "<p>1000 rows × 21 columns</p>\n",
       "</div>"
      ],
      "text/plain": [
       "      count_floors_pre_eq    age    height  L1  L2  F1  F2  F3  F4  \\\n",
       "7054                0.125  0.125  0.129032   0   1   0   0   0   0   \n",
       "442                 0.125  0.100  0.129032   0   1   0   0   1   0   \n",
       "3954                0.125  0.025  0.129032   0   1   0   0   0   0   \n",
       "2288                0.000  0.025  0.064516   0   1   0   0   0   0   \n",
       "3196                0.125  1.000  0.096774   0   1   0   0   0   0   \n",
       "...                   ...    ...       ...  ..  ..  ..  ..  ..  ..   \n",
       "7236                0.125  0.050  0.129032   0   1   0   0   0   0   \n",
       "3777                0.250  0.025  0.096774   0   1   0   1   0   0   \n",
       "7419                0.125  0.075  0.064516   0   1   0   0   0   0   \n",
       "7914                0.125  0.150  0.096774   1   0   0   0   0   0   \n",
       "3170                0.000  0.000  0.064516   0   1   0   0   0   0   \n",
       "\n",
       "      has_superstructure_adobe_mud  ...  has_superstructure_stone_flag  \\\n",
       "7054                             0  ...                              0   \n",
       "442                              0  ...                              1   \n",
       "3954                             0  ...                              0   \n",
       "2288                             0  ...                              0   \n",
       "3196                             0  ...                              0   \n",
       "...                            ...  ...                            ...   \n",
       "7236                             0  ...                              0   \n",
       "3777                             0  ...                              0   \n",
       "7419                             0  ...                              0   \n",
       "7914                             0  ...                              0   \n",
       "3170                             0  ...                              0   \n",
       "\n",
       "      has_superstructure_cement_mortar_stone  \\\n",
       "7054                                       0   \n",
       "442                                        0   \n",
       "3954                                       0   \n",
       "2288                                       0   \n",
       "3196                                       0   \n",
       "...                                      ...   \n",
       "7236                                       1   \n",
       "3777                                       0   \n",
       "7419                                       0   \n",
       "7914                                       0   \n",
       "3170                                       0   \n",
       "\n",
       "      has_superstructure_mud_mortar_brick  \\\n",
       "7054                                    0   \n",
       "442                                     0   \n",
       "3954                                    0   \n",
       "2288                                    0   \n",
       "3196                                    0   \n",
       "...                                   ...   \n",
       "7236                                    0   \n",
       "3777                                    0   \n",
       "7419                                    0   \n",
       "7914                                    0   \n",
       "3170                                    0   \n",
       "\n",
       "      has_superstructure_cement_mortar_brick  has_superstructure_timber  \\\n",
       "7054                                       0                          0   \n",
       "442                                        0                          1   \n",
       "3954                                       0                          0   \n",
       "2288                                       1                          0   \n",
       "3196                                       0                          0   \n",
       "...                                      ...                        ...   \n",
       "7236                                       0                          0   \n",
       "3777                                       0                          0   \n",
       "7419                                       0                          0   \n",
       "7914                                       0                          0   \n",
       "3170                                       0                          0   \n",
       "\n",
       "      has_superstructure_bamboo  has_superstructure_rc_non_engineered  \\\n",
       "7054                          0                                     0   \n",
       "442                           0                                     0   \n",
       "3954                          0                                     0   \n",
       "2288                          0                                     0   \n",
       "3196                          0                                     0   \n",
       "...                         ...                                   ...   \n",
       "7236                          0                                     0   \n",
       "3777                          0                                     0   \n",
       "7419                          0                                     0   \n",
       "7914                          0                                     0   \n",
       "3170                          0                                     0   \n",
       "\n",
       "      has_superstructure_rc_engineered  has_superstructure_other  damage_grade  \n",
       "7054                                 0                         0             2  \n",
       "442                                  0                         0             2  \n",
       "3954                                 0                         0             3  \n",
       "2288                                 0                         0             2  \n",
       "3196                                 0                         0             3  \n",
       "...                                ...                       ...           ...  \n",
       "7236                                 0                         0             2  \n",
       "3777                                 0                         0             1  \n",
       "7419                                 0                         0             3  \n",
       "7914                                 0                         0             2  \n",
       "3170                                 0                         0             3  \n",
       "\n",
       "[1000 rows x 21 columns]"
      ]
     },
     "execution_count": 10,
     "metadata": {},
     "output_type": "execute_result"
    }
   ],
   "source": [
    "df_sample"
   ]
  },
  {
   "cell_type": "code",
   "execution_count": null,
   "metadata": {},
   "outputs": [],
   "source": []
  },
  {
   "cell_type": "markdown",
   "metadata": {},
   "source": [
    "### Split data into train, validation and test sets"
   ]
  },
  {
   "cell_type": "code",
   "execution_count": 11,
   "metadata": {},
   "outputs": [],
   "source": [
    "X = df_sample.iloc[:,0:20]\n",
    "y = df_sample.iloc[:,20]"
   ]
  },
  {
   "cell_type": "code",
   "execution_count": 12,
   "metadata": {},
   "outputs": [
    {
     "data": {
      "text/html": [
       "<div>\n",
       "<style scoped>\n",
       "    .dataframe tbody tr th:only-of-type {\n",
       "        vertical-align: middle;\n",
       "    }\n",
       "\n",
       "    .dataframe tbody tr th {\n",
       "        vertical-align: top;\n",
       "    }\n",
       "\n",
       "    .dataframe thead th {\n",
       "        text-align: right;\n",
       "    }\n",
       "</style>\n",
       "<table border=\"1\" class=\"dataframe\">\n",
       "  <thead>\n",
       "    <tr style=\"text-align: right;\">\n",
       "      <th></th>\n",
       "      <th>count_floors_pre_eq</th>\n",
       "      <th>age</th>\n",
       "      <th>height</th>\n",
       "      <th>L1</th>\n",
       "      <th>L2</th>\n",
       "      <th>F1</th>\n",
       "      <th>F2</th>\n",
       "      <th>F3</th>\n",
       "      <th>F4</th>\n",
       "      <th>has_superstructure_adobe_mud</th>\n",
       "      <th>has_superstructure_mud_mortar_stone</th>\n",
       "      <th>has_superstructure_stone_flag</th>\n",
       "      <th>has_superstructure_cement_mortar_stone</th>\n",
       "      <th>has_superstructure_mud_mortar_brick</th>\n",
       "      <th>has_superstructure_cement_mortar_brick</th>\n",
       "      <th>has_superstructure_timber</th>\n",
       "      <th>has_superstructure_bamboo</th>\n",
       "      <th>has_superstructure_rc_non_engineered</th>\n",
       "      <th>has_superstructure_rc_engineered</th>\n",
       "      <th>has_superstructure_other</th>\n",
       "    </tr>\n",
       "  </thead>\n",
       "  <tbody>\n",
       "    <tr>\n",
       "      <th>7054</th>\n",
       "      <td>0.125</td>\n",
       "      <td>0.125</td>\n",
       "      <td>0.129032</td>\n",
       "      <td>0</td>\n",
       "      <td>1</td>\n",
       "      <td>0</td>\n",
       "      <td>0</td>\n",
       "      <td>0</td>\n",
       "      <td>0</td>\n",
       "      <td>0</td>\n",
       "      <td>1</td>\n",
       "      <td>0</td>\n",
       "      <td>0</td>\n",
       "      <td>0</td>\n",
       "      <td>0</td>\n",
       "      <td>0</td>\n",
       "      <td>0</td>\n",
       "      <td>0</td>\n",
       "      <td>0</td>\n",
       "      <td>0</td>\n",
       "    </tr>\n",
       "    <tr>\n",
       "      <th>442</th>\n",
       "      <td>0.125</td>\n",
       "      <td>0.100</td>\n",
       "      <td>0.129032</td>\n",
       "      <td>0</td>\n",
       "      <td>1</td>\n",
       "      <td>0</td>\n",
       "      <td>0</td>\n",
       "      <td>1</td>\n",
       "      <td>0</td>\n",
       "      <td>0</td>\n",
       "      <td>0</td>\n",
       "      <td>1</td>\n",
       "      <td>0</td>\n",
       "      <td>0</td>\n",
       "      <td>0</td>\n",
       "      <td>1</td>\n",
       "      <td>0</td>\n",
       "      <td>0</td>\n",
       "      <td>0</td>\n",
       "      <td>0</td>\n",
       "    </tr>\n",
       "    <tr>\n",
       "      <th>3954</th>\n",
       "      <td>0.125</td>\n",
       "      <td>0.025</td>\n",
       "      <td>0.129032</td>\n",
       "      <td>0</td>\n",
       "      <td>1</td>\n",
       "      <td>0</td>\n",
       "      <td>0</td>\n",
       "      <td>0</td>\n",
       "      <td>0</td>\n",
       "      <td>0</td>\n",
       "      <td>1</td>\n",
       "      <td>0</td>\n",
       "      <td>0</td>\n",
       "      <td>0</td>\n",
       "      <td>0</td>\n",
       "      <td>0</td>\n",
       "      <td>0</td>\n",
       "      <td>0</td>\n",
       "      <td>0</td>\n",
       "      <td>0</td>\n",
       "    </tr>\n",
       "    <tr>\n",
       "      <th>2288</th>\n",
       "      <td>0.000</td>\n",
       "      <td>0.025</td>\n",
       "      <td>0.064516</td>\n",
       "      <td>0</td>\n",
       "      <td>1</td>\n",
       "      <td>0</td>\n",
       "      <td>0</td>\n",
       "      <td>0</td>\n",
       "      <td>0</td>\n",
       "      <td>0</td>\n",
       "      <td>0</td>\n",
       "      <td>0</td>\n",
       "      <td>0</td>\n",
       "      <td>0</td>\n",
       "      <td>1</td>\n",
       "      <td>0</td>\n",
       "      <td>0</td>\n",
       "      <td>0</td>\n",
       "      <td>0</td>\n",
       "      <td>0</td>\n",
       "    </tr>\n",
       "    <tr>\n",
       "      <th>3196</th>\n",
       "      <td>0.125</td>\n",
       "      <td>1.000</td>\n",
       "      <td>0.096774</td>\n",
       "      <td>0</td>\n",
       "      <td>1</td>\n",
       "      <td>0</td>\n",
       "      <td>0</td>\n",
       "      <td>0</td>\n",
       "      <td>0</td>\n",
       "      <td>0</td>\n",
       "      <td>1</td>\n",
       "      <td>0</td>\n",
       "      <td>0</td>\n",
       "      <td>0</td>\n",
       "      <td>0</td>\n",
       "      <td>0</td>\n",
       "      <td>0</td>\n",
       "      <td>0</td>\n",
       "      <td>0</td>\n",
       "      <td>0</td>\n",
       "    </tr>\n",
       "  </tbody>\n",
       "</table>\n",
       "</div>"
      ],
      "text/plain": [
       "      count_floors_pre_eq    age    height  L1  L2  F1  F2  F3  F4  \\\n",
       "7054                0.125  0.125  0.129032   0   1   0   0   0   0   \n",
       "442                 0.125  0.100  0.129032   0   1   0   0   1   0   \n",
       "3954                0.125  0.025  0.129032   0   1   0   0   0   0   \n",
       "2288                0.000  0.025  0.064516   0   1   0   0   0   0   \n",
       "3196                0.125  1.000  0.096774   0   1   0   0   0   0   \n",
       "\n",
       "      has_superstructure_adobe_mud  has_superstructure_mud_mortar_stone  \\\n",
       "7054                             0                                    1   \n",
       "442                              0                                    0   \n",
       "3954                             0                                    1   \n",
       "2288                             0                                    0   \n",
       "3196                             0                                    1   \n",
       "\n",
       "      has_superstructure_stone_flag  has_superstructure_cement_mortar_stone  \\\n",
       "7054                              0                                       0   \n",
       "442                               1                                       0   \n",
       "3954                              0                                       0   \n",
       "2288                              0                                       0   \n",
       "3196                              0                                       0   \n",
       "\n",
       "      has_superstructure_mud_mortar_brick  \\\n",
       "7054                                    0   \n",
       "442                                     0   \n",
       "3954                                    0   \n",
       "2288                                    0   \n",
       "3196                                    0   \n",
       "\n",
       "      has_superstructure_cement_mortar_brick  has_superstructure_timber  \\\n",
       "7054                                       0                          0   \n",
       "442                                        0                          1   \n",
       "3954                                       0                          0   \n",
       "2288                                       1                          0   \n",
       "3196                                       0                          0   \n",
       "\n",
       "      has_superstructure_bamboo  has_superstructure_rc_non_engineered  \\\n",
       "7054                          0                                     0   \n",
       "442                           0                                     0   \n",
       "3954                          0                                     0   \n",
       "2288                          0                                     0   \n",
       "3196                          0                                     0   \n",
       "\n",
       "      has_superstructure_rc_engineered  has_superstructure_other  \n",
       "7054                                 0                         0  \n",
       "442                                  0                         0  \n",
       "3954                                 0                         0  \n",
       "2288                                 0                         0  \n",
       "3196                                 0                         0  "
      ]
     },
     "execution_count": 12,
     "metadata": {},
     "output_type": "execute_result"
    }
   ],
   "source": [
    "X.head()"
   ]
  },
  {
   "cell_type": "code",
   "execution_count": 13,
   "metadata": {},
   "outputs": [
    {
     "data": {
      "text/plain": [
       "7054    2\n",
       "442     2\n",
       "3954    3\n",
       "2288    2\n",
       "3196    3\n",
       "Name: damage_grade, dtype: int64"
      ]
     },
     "execution_count": 13,
     "metadata": {},
     "output_type": "execute_result"
    }
   ],
   "source": [
    "y.head()"
   ]
  },
  {
   "cell_type": "code",
   "execution_count": 14,
   "metadata": {},
   "outputs": [
    {
     "data": {
      "text/plain": [
       "(array([[0.125     , 0.125     , 0.12903226, ..., 0.        , 0.        ,\n",
       "         0.        ],\n",
       "        [0.125     , 0.1       , 0.12903226, ..., 0.        , 0.        ,\n",
       "         0.        ],\n",
       "        [0.125     , 0.025     , 0.12903226, ..., 0.        , 0.        ,\n",
       "         0.        ],\n",
       "        ...,\n",
       "        [0.125     , 0.075     , 0.06451613, ..., 0.        , 0.        ,\n",
       "         0.        ],\n",
       "        [0.125     , 0.15      , 0.09677419, ..., 0.        , 0.        ,\n",
       "         0.        ],\n",
       "        [0.        , 0.        , 0.06451613, ..., 0.        , 0.        ,\n",
       "         0.        ]]),\n",
       " array([2, 2, 3, 2, 3, 2, 1, 2, 3, 3, 3, 2, 2, 2, 2, 3, 3, 2, 2, 3, 3, 2,\n",
       "        1, 2, 1, 2, 1, 2, 2, 1, 2, 2, 3, 1, 3, 2, 2, 3, 2, 2, 3, 2, 3, 2,\n",
       "        2, 2, 3, 2, 3, 3, 2, 3, 2, 2, 3, 1, 1, 3, 2, 1, 2, 3, 2, 1, 2, 2,\n",
       "        3, 3, 2, 2, 3, 3, 1, 3, 3, 2, 2, 2, 3, 3, 2, 3, 2, 3, 3, 3, 3, 3,\n",
       "        3, 3, 2, 3, 3, 3, 3, 2, 2, 3, 2, 2, 2, 2, 2, 3, 2, 2, 3, 3, 2, 3,\n",
       "        3, 2, 2, 2, 2, 3, 2, 2, 2, 2, 2, 2, 1, 2, 2, 3, 3, 2, 3, 3, 3, 3,\n",
       "        2, 2, 2, 2, 2, 2, 2, 1, 3, 2, 2, 2, 3, 2, 1, 2, 3, 2, 3, 2, 2, 3,\n",
       "        3, 2, 3, 2, 2, 2, 3, 3, 3, 2, 2, 2, 2, 3, 2, 2, 3, 2, 3, 1, 1, 3,\n",
       "        3, 1, 3, 3, 2, 2, 2, 3, 2, 3, 2, 3, 3, 3, 1, 3, 2, 2, 2, 2, 3, 2,\n",
       "        3, 1, 1, 3, 3, 3, 1, 2, 1, 3, 3, 2, 2, 3, 2, 3, 3, 1, 3, 3, 2, 2,\n",
       "        2, 3, 3, 2, 1, 1, 1, 2, 2, 2, 3, 2, 2, 3, 3, 3, 3, 2, 3, 2, 2, 2,\n",
       "        3, 3, 2, 3, 2, 2, 3, 2, 2, 3, 2, 2, 3, 2, 3, 1, 2, 3, 2, 3, 2, 2,\n",
       "        3, 2, 2, 3, 2, 3, 3, 3, 2, 2, 1, 2, 1, 3, 2, 2, 2, 2, 2, 2, 2, 3,\n",
       "        2, 3, 3, 2, 2, 2, 2, 2, 3, 2, 2, 3, 2, 2, 3, 3, 2, 3, 2, 2, 2, 2,\n",
       "        2, 2, 3, 2, 2, 3, 2, 3, 2, 3, 2, 2, 2, 2, 2, 2, 1, 3, 1, 2, 1, 1,\n",
       "        2, 2, 2, 2, 2, 3, 2, 3, 2, 1, 2, 2, 2, 3, 3, 1, 2, 2, 1, 3, 3, 1,\n",
       "        2, 2, 2, 2, 2, 2, 2, 2, 3, 1, 2, 3, 2, 2, 2, 2, 2, 2, 2, 2, 2, 2,\n",
       "        2, 3, 3, 1, 3, 1, 2, 3, 2, 2, 3, 3, 2, 2, 2, 3, 1, 2, 3, 2, 2, 2,\n",
       "        3, 2, 2, 3, 2, 2, 2, 3, 3, 2, 3, 3, 2, 3, 2, 2, 1, 1, 3, 2, 2, 3,\n",
       "        3, 2, 3, 2, 2, 3, 3, 3, 3, 3, 2, 2, 2, 3, 3, 1, 3, 3, 1, 3, 2, 1,\n",
       "        2, 3, 1, 2, 3, 1, 2, 1, 3, 3, 3, 1, 2, 2, 2, 3, 2, 3, 3, 3, 2, 3,\n",
       "        3, 3, 1, 2, 2, 3, 3, 1, 2, 3, 2, 2, 3, 2, 2, 3, 1, 3, 3, 2, 2, 2,\n",
       "        2, 3, 2, 3, 2, 2, 3, 1, 3, 3, 2, 3, 2, 2, 2, 2, 3, 2, 3, 2, 2, 3,\n",
       "        2, 3, 3, 3, 2, 2, 2, 2, 3, 2, 2, 2, 2, 3, 2, 1, 2, 2, 1, 2, 3, 2,\n",
       "        2, 3, 3, 2, 3, 1, 2, 3, 2, 3, 3, 2, 2, 2, 2, 2, 1, 2, 2, 2, 3, 3,\n",
       "        2, 3, 3, 2, 2, 3, 2, 3, 3, 2, 3, 1, 1, 2, 2, 3, 3, 3, 3, 2, 3, 2,\n",
       "        2, 2, 2, 3, 2, 3, 3, 2, 2, 3, 1, 3, 2, 2, 3, 2, 3, 3, 3, 2, 2, 2,\n",
       "        2, 2, 3, 2, 2, 3, 3, 2, 2, 2, 2, 2, 3, 2, 3, 1, 1, 2, 3, 3, 3, 2,\n",
       "        2, 2, 2, 3, 2, 2, 3, 2, 3, 2, 2, 2, 3, 2, 3, 3, 2, 2, 3, 2, 2, 3,\n",
       "        2, 2, 3, 1, 2, 2, 2, 3, 2, 2, 2, 2, 3, 3, 2, 2, 3, 2, 2, 2, 3, 2,\n",
       "        1, 2, 3, 3, 2, 2, 2, 2, 2, 2, 2, 2, 3, 2, 1, 3, 3, 2, 2, 3, 2, 2,\n",
       "        3, 1, 3, 2, 3, 3, 2, 2, 2, 2, 2, 2, 3, 2, 2, 1, 1, 1, 2, 2, 3, 2,\n",
       "        2, 2, 2, 2, 2, 3, 2, 3, 3, 2, 3, 3, 2, 2, 2, 3, 3, 2, 2, 1, 2, 3,\n",
       "        1, 3, 2, 2, 2, 3, 2, 2, 1, 3, 1, 3, 2, 3, 2, 3, 2, 2, 3, 3, 3, 2,\n",
       "        3, 2, 2, 2, 3, 2, 1, 2, 3, 2, 2, 1, 2, 3, 2, 1, 1, 2, 2, 2, 2, 3,\n",
       "        2, 2, 1, 2, 2, 2, 1, 2, 1, 2, 1, 3, 2, 3, 2, 3, 1, 2, 3, 3, 3, 2,\n",
       "        1, 2, 2, 2, 3, 2, 3, 3, 2, 2, 3, 3, 3, 1, 3, 3, 2, 2, 2, 2, 2, 2,\n",
       "        2, 2, 2, 1, 2, 3, 2, 2, 3, 2, 2, 1, 2, 2, 1, 2, 2, 2, 2, 2, 2, 3,\n",
       "        3, 3, 2, 2, 3, 2, 3, 3, 3, 2, 2, 3, 3, 2, 2, 3, 2, 3, 2, 3, 2, 3,\n",
       "        2, 2, 1, 2, 2, 2, 2, 3, 3, 2, 3, 2, 2, 2, 3, 3, 2, 1, 1, 2, 2, 2,\n",
       "        2, 2, 2, 2, 3, 2, 2, 2, 2, 2, 2, 3, 2, 3, 2, 1, 3, 2, 3, 2, 3, 2,\n",
       "        2, 3, 3, 3, 2, 2, 2, 1, 2, 2, 3, 2, 2, 2, 3, 2, 2, 2, 3, 2, 3, 3,\n",
       "        2, 3, 3, 3, 2, 2, 2, 2, 2, 2, 2, 3, 3, 3, 2, 3, 2, 2, 2, 2, 2, 2,\n",
       "        2, 2, 2, 3, 2, 3, 3, 3, 3, 1, 2, 3, 2, 1, 2, 3, 2, 2, 2, 3, 2, 2,\n",
       "        1, 3, 1, 2, 2, 3, 2, 3, 3, 3, 2, 2, 2, 3, 1, 2, 3, 2, 3, 2, 2, 2,\n",
       "        2, 3, 2, 1, 2, 2, 1, 3, 2, 3], dtype=int64))"
      ]
     },
     "execution_count": 14,
     "metadata": {},
     "output_type": "execute_result"
    }
   ],
   "source": [
    "X.values, y.values"
   ]
  },
  {
   "cell_type": "markdown",
   "metadata": {},
   "source": [
    "### Baseline GBC model using sample size of 10%"
   ]
  },
  {
   "cell_type": "code",
   "execution_count": 15,
   "metadata": {},
   "outputs": [],
   "source": [
    "X_train, X_test, y_train, y_test = train_test_split(X,y,test_size=0.20)"
   ]
  },
  {
   "cell_type": "code",
   "execution_count": 16,
   "metadata": {},
   "outputs": [
    {
     "data": {
      "text/plain": [
       "((800, 20), (800,))"
      ]
     },
     "execution_count": 16,
     "metadata": {},
     "output_type": "execute_result"
    }
   ],
   "source": [
    "X_train.shape, y_train.shape"
   ]
  },
  {
   "cell_type": "code",
   "execution_count": 17,
   "metadata": {},
   "outputs": [
    {
     "data": {
      "text/plain": [
       "((200, 20), (200,))"
      ]
     },
     "execution_count": 17,
     "metadata": {},
     "output_type": "execute_result"
    }
   ],
   "source": [
    "X_test.shape, y_test.shape"
   ]
  },
  {
   "cell_type": "code",
   "execution_count": 18,
   "metadata": {},
   "outputs": [],
   "source": [
    "gbc_sample = GradientBoostingClassifier()"
   ]
  },
  {
   "cell_type": "code",
   "execution_count": 19,
   "metadata": {},
   "outputs": [
    {
     "data": {
      "text/plain": [
       "GradientBoostingClassifier(ccp_alpha=0.0, criterion='friedman_mse', init=None,\n",
       "                           learning_rate=0.1, loss='deviance', max_depth=3,\n",
       "                           max_features=None, max_leaf_nodes=None,\n",
       "                           min_impurity_decrease=0.0, min_impurity_split=None,\n",
       "                           min_samples_leaf=1, min_samples_split=2,\n",
       "                           min_weight_fraction_leaf=0.0, n_estimators=100,\n",
       "                           n_iter_no_change=None, presort='deprecated',\n",
       "                           random_state=None, subsample=1.0, tol=0.0001,\n",
       "                           validation_fraction=0.1, verbose=0,\n",
       "                           warm_start=False)"
      ]
     },
     "execution_count": 19,
     "metadata": {},
     "output_type": "execute_result"
    }
   ],
   "source": [
    "gbc_sample.fit(X_train,y_train)"
   ]
  },
  {
   "cell_type": "code",
   "execution_count": 20,
   "metadata": {},
   "outputs": [
    {
     "data": {
      "text/plain": [
       "array([2, 2, 2, 2, 3, 2, 2, 2, 2, 2, 2, 2, 2, 2, 2, 2, 1, 2, 2, 1, 2, 2,\n",
       "       2, 3, 3, 2, 2, 2, 2, 3, 2, 2, 2, 2, 3, 3, 2, 2, 2, 2, 2, 2, 2, 2,\n",
       "       2, 2, 2, 2, 3, 2, 2, 2, 2, 2, 2, 2, 3, 2, 3, 2, 2, 2, 2, 2, 2, 2,\n",
       "       2, 2, 2, 2, 2, 3, 2, 2, 2, 2, 2, 2, 2, 2, 2, 2, 2, 2, 2, 3, 2, 2,\n",
       "       2, 2, 2, 3, 3, 3, 2, 2, 2, 2, 2, 2, 2, 3, 3, 2, 2, 2, 2, 2, 2, 3,\n",
       "       3, 3, 2, 2, 2, 2, 2, 3, 2, 3, 2, 2, 2, 2, 2, 2, 3, 2, 1, 2, 2, 3,\n",
       "       2, 2, 2, 2, 3, 1, 2, 2, 2, 2, 2, 2, 2, 2, 2, 2, 2, 2, 2, 2, 2, 2,\n",
       "       2, 3, 2, 2, 3, 2, 2, 2, 2, 3, 2, 2, 2, 1, 2, 2, 2, 2, 3, 2, 3, 3,\n",
       "       2, 2, 3, 1, 2, 2, 2, 2, 2, 2, 3, 3, 2, 3, 3, 2, 2, 2, 2, 1, 2, 3,\n",
       "       3, 3], dtype=int64)"
      ]
     },
     "execution_count": 20,
     "metadata": {},
     "output_type": "execute_result"
    }
   ],
   "source": [
    "gbc_pred_sample = gbc_sample.predict(X_test)\n",
    "gbc_pred_sample"
   ]
  },
  {
   "cell_type": "code",
   "execution_count": 21,
   "metadata": {},
   "outputs": [
    {
     "data": {
      "text/plain": [
       "array([[0.03161052, 0.89010495, 0.07828453],\n",
       "       [0.02203148, 0.50164716, 0.47632137],\n",
       "       [0.02022609, 0.52598797, 0.45378594],\n",
       "       [0.28180355, 0.59356447, 0.12463198],\n",
       "       [0.01297578, 0.45751542, 0.5295088 ],\n",
       "       [0.0214841 , 0.74104496, 0.23747094],\n",
       "       [0.01284977, 0.87129551, 0.11585472],\n",
       "       [0.00984949, 0.59921883, 0.39093168],\n",
       "       [0.01595744, 0.6369634 , 0.34707915],\n",
       "       [0.02022609, 0.52598797, 0.45378594],\n",
       "       [0.01389265, 0.54135544, 0.44475191],\n",
       "       [0.0216598 , 0.5993952 , 0.378945  ],\n",
       "       [0.01619758, 0.50161831, 0.48218412],\n",
       "       [0.33165241, 0.65783725, 0.01051034],\n",
       "       [0.05320724, 0.53611945, 0.4106733 ],\n",
       "       [0.0206502 , 0.53701694, 0.44233286],\n",
       "       [0.87132704, 0.08652745, 0.0421455 ],\n",
       "       [0.08014326, 0.67749405, 0.24236268],\n",
       "       [0.02415144, 0.54119718, 0.43465138],\n",
       "       [0.57109046, 0.39232996, 0.03657958],\n",
       "       [0.08673769, 0.61469384, 0.29856847],\n",
       "       [0.01929699, 0.60467911, 0.3760239 ],\n",
       "       [0.24862706, 0.71583964, 0.0355333 ],\n",
       "       [0.01754808, 0.44522741, 0.53722451],\n",
       "       [0.01387312, 0.17123278, 0.8148941 ],\n",
       "       [0.01929699, 0.60467911, 0.3760239 ],\n",
       "       [0.35346716, 0.62512564, 0.0214072 ],\n",
       "       [0.06359454, 0.53357554, 0.40282991],\n",
       "       [0.26267642, 0.62298683, 0.11433675],\n",
       "       [0.01754808, 0.44522741, 0.53722451],\n",
       "       [0.01929914, 0.52046769, 0.46023317],\n",
       "       [0.0101354 , 0.65077634, 0.33908826],\n",
       "       [0.02388714, 0.5840318 , 0.39208107],\n",
       "       [0.01384743, 0.50044128, 0.48571128],\n",
       "       [0.01832599, 0.47657484, 0.50509918],\n",
       "       [0.02068377, 0.43534509, 0.54397113],\n",
       "       [0.38630352, 0.58663937, 0.02705711],\n",
       "       [0.18898896, 0.69339295, 0.11761809],\n",
       "       [0.02586142, 0.48983366, 0.48430492],\n",
       "       [0.00339263, 0.94248004, 0.05412733],\n",
       "       [0.02085682, 0.70150206, 0.27764112],\n",
       "       [0.0205569 , 0.56102528, 0.41841782],\n",
       "       [0.01604499, 0.57773148, 0.40622353],\n",
       "       [0.02388714, 0.5840318 , 0.39208107],\n",
       "       [0.19425869, 0.64712423, 0.15861709],\n",
       "       [0.23518506, 0.73809763, 0.02671731],\n",
       "       [0.02661773, 0.517595  , 0.45578727],\n",
       "       [0.02081596, 0.73503444, 0.24414959],\n",
       "       [0.01950596, 0.44434014, 0.5361539 ],\n",
       "       [0.0228888 , 0.56832054, 0.40879066],\n",
       "       [0.0190659 , 0.75056335, 0.23037075],\n",
       "       [0.01929699, 0.60467911, 0.3760239 ],\n",
       "       [0.00672073, 0.95263223, 0.04064704],\n",
       "       [0.01690905, 0.63833429, 0.34475666],\n",
       "       [0.10730424, 0.72225785, 0.17043791],\n",
       "       [0.00957628, 0.75838482, 0.23203891],\n",
       "       [0.0330139 , 0.28543642, 0.68154967],\n",
       "       [0.0276471 , 0.64998629, 0.32236661],\n",
       "       [0.02084437, 0.48668547, 0.49247016],\n",
       "       [0.0575433 , 0.66679078, 0.27566592],\n",
       "       [0.03046434, 0.72859894, 0.24093672],\n",
       "       [0.30307685, 0.56556745, 0.13135571],\n",
       "       [0.07510862, 0.71896011, 0.20593127],\n",
       "       [0.11388973, 0.48896786, 0.39714241],\n",
       "       [0.01448926, 0.54007184, 0.4454389 ],\n",
       "       [0.19581934, 0.64926603, 0.15491463],\n",
       "       [0.02144813, 0.5193272 , 0.45922467],\n",
       "       [0.15496875, 0.65752284, 0.18750841],\n",
       "       [0.02072826, 0.83182124, 0.1474505 ],\n",
       "       [0.1509642 , 0.70961318, 0.13942262],\n",
       "       [0.00659108, 0.66391926, 0.32948966],\n",
       "       [0.01373609, 0.41328877, 0.57297514],\n",
       "       [0.0206502 , 0.53701694, 0.44233286],\n",
       "       [0.01456683, 0.50244978, 0.48298338],\n",
       "       [0.01575124, 0.54330323, 0.44094553],\n",
       "       [0.0108494 , 0.59362472, 0.39552588],\n",
       "       [0.01612406, 0.63936743, 0.34450851],\n",
       "       [0.18209269, 0.5925578 , 0.22534952],\n",
       "       [0.02075144, 0.52220209, 0.45704647],\n",
       "       [0.28194283, 0.67106808, 0.0469891 ],\n",
       "       [0.07197217, 0.57946937, 0.34855846],\n",
       "       [0.02661773, 0.517595  , 0.45578727],\n",
       "       [0.00211305, 0.99186328, 0.00602367],\n",
       "       [0.04076146, 0.65201202, 0.30722652],\n",
       "       [0.00410101, 0.89551875, 0.10038024],\n",
       "       [0.01737866, 0.46538886, 0.51723248],\n",
       "       [0.01929914, 0.52046769, 0.46023317],\n",
       "       [0.01384743, 0.50044128, 0.48571128],\n",
       "       [0.03043379, 0.50173959, 0.46782662],\n",
       "       [0.28776623, 0.59999898, 0.11223479],\n",
       "       [0.02396346, 0.5190064 , 0.45703014],\n",
       "       [0.03812942, 0.44147486, 0.52039572],\n",
       "       [0.01812768, 0.48360288, 0.49826944],\n",
       "       [0.0188859 , 0.44712047, 0.53399363],\n",
       "       [0.28990265, 0.61291018, 0.09718718],\n",
       "       [0.02105846, 0.59565518, 0.38328636],\n",
       "       [0.02144813, 0.5193272 , 0.45922467],\n",
       "       [0.01341607, 0.53164734, 0.45493659],\n",
       "       [0.02144813, 0.5193272 , 0.45922467],\n",
       "       [0.04175745, 0.74053383, 0.21770872],\n",
       "       [0.01355721, 0.53953331, 0.44690948],\n",
       "       [0.03714433, 0.39707041, 0.56578525],\n",
       "       [0.0188859 , 0.44712047, 0.53399363],\n",
       "       [0.0206502 , 0.53701694, 0.44233286],\n",
       "       [0.01929914, 0.52046769, 0.46023317],\n",
       "       [0.01929699, 0.60467911, 0.3760239 ],\n",
       "       [0.02651072, 0.6340424 , 0.33944688],\n",
       "       [0.01983526, 0.60545684, 0.37470789],\n",
       "       [0.01171217, 0.72414812, 0.26413971],\n",
       "       [0.02236486, 0.47726724, 0.50036791],\n",
       "       [0.02036886, 0.47558308, 0.50404806],\n",
       "       [0.0209332 , 0.42994523, 0.54912156],\n",
       "       [0.02022609, 0.52598797, 0.45378594],\n",
       "       [0.01626666, 0.71810981, 0.26562353],\n",
       "       [0.02144813, 0.5193272 , 0.45922467],\n",
       "       [0.01485413, 0.59353768, 0.39160819],\n",
       "       [0.01575124, 0.54330323, 0.44094553],\n",
       "       [0.07740927, 0.38077514, 0.5418156 ],\n",
       "       [0.02661773, 0.517595  , 0.45578727],\n",
       "       [0.00577161, 0.09126459, 0.9029638 ],\n",
       "       [0.02447712, 0.50039267, 0.47513021],\n",
       "       [0.02144813, 0.5193272 , 0.45922467],\n",
       "       [0.02075144, 0.52220209, 0.45704647],\n",
       "       [0.02488586, 0.56664021, 0.40847393],\n",
       "       [0.01407707, 0.650924  , 0.33499893],\n",
       "       [0.12490185, 0.65820628, 0.21689187],\n",
       "       [0.00649572, 0.4056389 , 0.58786539],\n",
       "       [0.01929699, 0.60467911, 0.3760239 ],\n",
       "       [0.51400467, 0.46934463, 0.0166507 ],\n",
       "       [0.13828214, 0.75458828, 0.10712957],\n",
       "       [0.05217247, 0.73470725, 0.21312028],\n",
       "       [0.01626873, 0.49128148, 0.4924498 ],\n",
       "       [0.0214841 , 0.74104496, 0.23747094],\n",
       "       [0.06077643, 0.73657078, 0.20265279],\n",
       "       [0.27986591, 0.59620263, 0.12393146],\n",
       "       [0.0175909 , 0.63339493, 0.34901417],\n",
       "       [0.01950596, 0.44434014, 0.5361539 ],\n",
       "       [0.45424494, 0.44101664, 0.10473842],\n",
       "       [0.14870209, 0.44226725, 0.40903066],\n",
       "       [0.01814836, 0.74026479, 0.24158685],\n",
       "       [0.01929914, 0.52046769, 0.46023317],\n",
       "       [0.03776465, 0.49881782, 0.46341752],\n",
       "       [0.01517726, 0.8067193 , 0.17810344],\n",
       "       [0.24426449, 0.71671512, 0.03902039],\n",
       "       [0.01566584, 0.52541073, 0.45892343],\n",
       "       [0.02982556, 0.88501337, 0.08516107],\n",
       "       [0.03574982, 0.8622032 , 0.10204699],\n",
       "       [0.0275616 , 0.9607163 , 0.0117221 ],\n",
       "       [0.0424158 , 0.5436653 , 0.4139189 ],\n",
       "       [0.01485413, 0.59353768, 0.39160819],\n",
       "       [0.11065263, 0.68337088, 0.20597649],\n",
       "       [0.18918869, 0.62153903, 0.18927228],\n",
       "       [0.03367336, 0.78981855, 0.17650809],\n",
       "       [0.02903724, 0.62889549, 0.34206728],\n",
       "       [0.01929914, 0.52046769, 0.46023317],\n",
       "       [0.02036886, 0.47558308, 0.50404806],\n",
       "       [0.01991161, 0.92727845, 0.05280994],\n",
       "       [0.01575124, 0.54330323, 0.44094553],\n",
       "       [0.01950596, 0.44434014, 0.5361539 ],\n",
       "       [0.4644919 , 0.52561166, 0.00989644],\n",
       "       [0.19886077, 0.54718839, 0.25395084],\n",
       "       [0.01320118, 0.50660408, 0.48019474],\n",
       "       [0.00925103, 0.77199432, 0.21875464],\n",
       "       [0.0263203 , 0.4824055 , 0.49127419],\n",
       "       [0.0224026 , 0.5302685 , 0.4473289 ],\n",
       "       [0.01783821, 0.57667859, 0.4054832 ],\n",
       "       [0.14788355, 0.58067176, 0.27144469],\n",
       "       [0.71327292, 0.25572828, 0.03099879],\n",
       "       [0.02074804, 0.65014836, 0.3291036 ],\n",
       "       [0.05532328, 0.4931556 , 0.45152112],\n",
       "       [0.02903724, 0.62889549, 0.34206728],\n",
       "       [0.1194465 , 0.4775813 , 0.4029722 ],\n",
       "       [0.01879684, 0.47900909, 0.50219407],\n",
       "       [0.02203148, 0.50164716, 0.47632137],\n",
       "       [0.0188859 , 0.44712047, 0.53399363],\n",
       "       [0.02036886, 0.47558308, 0.50404806],\n",
       "       [0.02075144, 0.52220209, 0.45704647],\n",
       "       [0.02447712, 0.50039267, 0.47513021],\n",
       "       [0.02236486, 0.47726724, 0.50036791],\n",
       "       [0.45141802, 0.44574129, 0.10284069],\n",
       "       [0.02447712, 0.50039267, 0.47513021],\n",
       "       [0.02196473, 0.60520139, 0.37283388],\n",
       "       [0.11065263, 0.68337088, 0.20597649],\n",
       "       [0.33806191, 0.65056039, 0.0113777 ],\n",
       "       [0.02586142, 0.48983366, 0.48430492],\n",
       "       [0.3652498 , 0.5989128 , 0.0358374 ],\n",
       "       [0.01950596, 0.44434014, 0.5361539 ],\n",
       "       [0.03629066, 0.15344094, 0.81026839],\n",
       "       [0.07386184, 0.68662615, 0.23951201],\n",
       "       [0.16174538, 0.39783336, 0.44042126],\n",
       "       [0.01754808, 0.44522741, 0.53722451],\n",
       "       [0.02105846, 0.59565518, 0.38328636],\n",
       "       [0.02974662, 0.62828669, 0.34196669],\n",
       "       [0.01751222, 0.54233118, 0.4401566 ],\n",
       "       [0.02651072, 0.6340424 , 0.33944688],\n",
       "       [0.92335612, 0.07165854, 0.00498534],\n",
       "       [0.04017745, 0.51497515, 0.4448474 ],\n",
       "       [0.01679144, 0.46036418, 0.52284438],\n",
       "       [0.06539514, 0.40607494, 0.52852992],\n",
       "       [0.01879684, 0.47900909, 0.50219407]])"
      ]
     },
     "execution_count": 21,
     "metadata": {},
     "output_type": "execute_result"
    }
   ],
   "source": [
    "gbc_pred_sample_proba = gbc_sample.predict_proba(X_test)\n",
    "gbc_pred_sample_proba"
   ]
  },
  {
   "cell_type": "code",
   "execution_count": 22,
   "metadata": {},
   "outputs": [
    {
     "name": "stdout",
     "output_type": "stream",
     "text": [
      "Accuracy Score: 0.52\n",
      "F1 Score: 0.52\n",
      "Precision Score: 0.52\n",
      "Recall Score: 0.52\n",
      "Log Loss: 0.9910260972795072\n"
     ]
    }
   ],
   "source": [
    "print('Accuracy Score:', accuracy_score(y_test,gbc_pred_sample))\n",
    "print('F1 Score:',f1_score(y_test,gbc_pred_sample,average='micro'))\n",
    "print('Precision Score:',precision_score(y_test,gbc_pred_sample,average='micro'))\n",
    "print('Recall Score:',recall_score(y_test,gbc_pred_sample,average='micro'))\n",
    "print('Log Loss:',log_loss(y_test,gbc_pred_sample_proba))"
   ]
  },
  {
   "cell_type": "code",
   "execution_count": 23,
   "metadata": {},
   "outputs": [
    {
     "name": "stdout",
     "output_type": "stream",
     "text": [
      "              precision    recall  f1-score   support\n",
      "\n",
      "           1       0.71      0.22      0.33        23\n",
      "           2       0.55      0.77      0.65       111\n",
      "           3       0.34      0.20      0.25        66\n",
      "\n",
      "    accuracy                           0.52       200\n",
      "   macro avg       0.54      0.40      0.41       200\n",
      "weighted avg       0.50      0.52      0.48       200\n",
      "\n"
     ]
    }
   ],
   "source": [
    "print(classification_report(y_test,gbc_pred_sample))"
   ]
  },
  {
   "cell_type": "markdown",
   "metadata": {},
   "source": [
    "### Baseline XGBoost Classifier model using sample size of 20%"
   ]
  },
  {
   "cell_type": "code",
   "execution_count": 24,
   "metadata": {},
   "outputs": [],
   "source": [
    "xgc_sample = xgb.XGBClassifier(objective='multi:softprob',random_state=5)"
   ]
  },
  {
   "cell_type": "code",
   "execution_count": 25,
   "metadata": {},
   "outputs": [
    {
     "data": {
      "text/plain": [
       "XGBClassifier(base_score=0.5, booster='gbtree', colsample_bylevel=1,\n",
       "              colsample_bynode=1, colsample_bytree=1, gamma=0,\n",
       "              learning_rate=0.1, max_delta_step=0, max_depth=3,\n",
       "              min_child_weight=1, missing=None, n_estimators=100, n_jobs=1,\n",
       "              nthread=None, objective='multi:softprob', random_state=0,\n",
       "              reg_alpha=0, reg_lambda=1, scale_pos_weight=1, seed=None,\n",
       "              silent=None, subsample=1, verbosity=1)"
      ]
     },
     "execution_count": 25,
     "metadata": {},
     "output_type": "execute_result"
    }
   ],
   "source": [
    "xgc_sample.fit(X_train,y_train)"
   ]
  },
  {
   "cell_type": "code",
   "execution_count": 26,
   "metadata": {},
   "outputs": [
    {
     "data": {
      "text/plain": [
       "array([2, 2, 2, 1, 3, 2, 2, 2, 2, 2, 2, 2, 2, 1, 2, 2, 1, 2, 2, 1, 2, 2,\n",
       "       2, 2, 3, 2, 2, 2, 2, 2, 2, 2, 2, 3, 2, 3, 2, 2, 2, 2, 2, 2, 2, 2,\n",
       "       2, 2, 2, 2, 2, 2, 2, 2, 2, 2, 2, 2, 3, 2, 2, 2, 2, 2, 2, 2, 2, 2,\n",
       "       2, 2, 2, 2, 2, 2, 2, 2, 2, 2, 2, 2, 2, 2, 2, 2, 2, 2, 2, 3, 2, 3,\n",
       "       3, 2, 2, 3, 2, 2, 2, 2, 2, 2, 2, 2, 2, 3, 2, 2, 2, 2, 2, 2, 2, 2,\n",
       "       2, 3, 2, 2, 2, 2, 2, 2, 2, 3, 2, 2, 2, 2, 2, 2, 3, 2, 2, 2, 2, 2,\n",
       "       2, 2, 2, 2, 2, 2, 2, 2, 2, 2, 2, 2, 2, 2, 2, 2, 2, 2, 2, 2, 2, 2,\n",
       "       2, 2, 2, 2, 2, 2, 2, 2, 3, 2, 2, 2, 2, 1, 2, 2, 2, 2, 2, 2, 2, 2,\n",
       "       2, 2, 2, 2, 2, 2, 2, 2, 2, 2, 2, 3, 2, 2, 2, 2, 2, 2, 2, 1, 2, 2,\n",
       "       2, 2], dtype=int64)"
      ]
     },
     "execution_count": 26,
     "metadata": {},
     "output_type": "execute_result"
    }
   ],
   "source": [
    "xgc_pred_sample = xgc_sample.predict(X_test)\n",
    "xgc_pred_sample"
   ]
  },
  {
   "cell_type": "code",
   "execution_count": 27,
   "metadata": {},
   "outputs": [
    {
     "data": {
      "text/plain": [
       "array([[0.04198956, 0.8941058 , 0.06390458],\n",
       "       [0.02634756, 0.5146029 , 0.45904952],\n",
       "       [0.02716696, 0.5454818 , 0.42735124],\n",
       "       [0.6298495 , 0.30262837, 0.06752212],\n",
       "       [0.01526221, 0.4874655 , 0.49727225],\n",
       "       [0.02752766, 0.608688  , 0.36378437],\n",
       "       [0.01719989, 0.8997065 , 0.08309358],\n",
       "       [0.01879236, 0.5571066 , 0.42410102],\n",
       "       [0.02057808, 0.6142822 , 0.36513972],\n",
       "       [0.02716696, 0.5454818 , 0.42735124],\n",
       "       [0.02121439, 0.6023551 , 0.37643048],\n",
       "       [0.02832452, 0.5701012 , 0.40157428],\n",
       "       [0.02555426, 0.54501015, 0.42943558],\n",
       "       [0.5076787 , 0.41082376, 0.08149756],\n",
       "       [0.04832343, 0.5083295 , 0.44334707],\n",
       "       [0.02716696, 0.5454818 , 0.42735124],\n",
       "       [0.63711715, 0.21233031, 0.15055253],\n",
       "       [0.10964718, 0.65944767, 0.23090522],\n",
       "       [0.02190789, 0.54047453, 0.43761757],\n",
       "       [0.5365559 , 0.43890122, 0.0245429 ],\n",
       "       [0.08617404, 0.60977155, 0.3040544 ],\n",
       "       [0.02657331, 0.57112867, 0.402298  ],\n",
       "       [0.4136498 , 0.5212384 , 0.06511185],\n",
       "       [0.02436023, 0.4891259 , 0.4865139 ],\n",
       "       [0.05511674, 0.29389197, 0.6509913 ],\n",
       "       [0.02657331, 0.57112867, 0.402298  ],\n",
       "       [0.43537337, 0.5472897 , 0.01733692],\n",
       "       [0.07660913, 0.53127396, 0.39211684],\n",
       "       [0.17783937, 0.6784568 , 0.14370385],\n",
       "       [0.02436023, 0.4891259 , 0.4865139 ],\n",
       "       [0.02421992, 0.51572746, 0.46005264],\n",
       "       [0.01006876, 0.5299513 , 0.45997998],\n",
       "       [0.03317654, 0.5678463 , 0.3989772 ],\n",
       "       [0.01526221, 0.4874655 , 0.49727225],\n",
       "       [0.02436023, 0.4891259 , 0.4865139 ],\n",
       "       [0.0340436 , 0.47299436, 0.49296206],\n",
       "       [0.39176643, 0.55022407, 0.05800954],\n",
       "       [0.13504592, 0.7407929 , 0.12416126],\n",
       "       [0.02280752, 0.50775087, 0.46944165],\n",
       "       [0.00961914, 0.89848924, 0.09189164],\n",
       "       [0.02752766, 0.608688  , 0.36378437],\n",
       "       [0.02752363, 0.5705711 , 0.40190527],\n",
       "       [0.02344299, 0.5625266 , 0.4140304 ],\n",
       "       [0.03317654, 0.5678463 , 0.3989772 ],\n",
       "       [0.3338906 , 0.5040298 , 0.1620796 ],\n",
       "       [0.19860472, 0.7867457 , 0.01464951],\n",
       "       [0.02859867, 0.50564355, 0.4657578 ],\n",
       "       [0.0405501 , 0.6573439 , 0.302106  ],\n",
       "       [0.02523346, 0.4886881 , 0.48607847],\n",
       "       [0.03106645, 0.6139563 , 0.35497725],\n",
       "       [0.04012939, 0.63948095, 0.3203897 ],\n",
       "       [0.02657331, 0.57112867, 0.402298  ],\n",
       "       [0.02308522, 0.90937316, 0.06754167],\n",
       "       [0.02193638, 0.60848784, 0.36957574],\n",
       "       [0.36428767, 0.45793083, 0.17778148],\n",
       "       [0.0186024 , 0.591059  , 0.39033857],\n",
       "       [0.04719434, 0.3481583 , 0.6046474 ],\n",
       "       [0.03859616, 0.6174737 , 0.3439301 ],\n",
       "       [0.02523346, 0.4886881 , 0.48607847],\n",
       "       [0.05498841, 0.61182374, 0.33318788],\n",
       "       [0.03851597, 0.69447076, 0.2670133 ],\n",
       "       [0.35785925, 0.5343575 , 0.10778322],\n",
       "       [0.11166781, 0.696298  , 0.1920342 ],\n",
       "       [0.11329779, 0.48358798, 0.40311423],\n",
       "       [0.01768855, 0.51826894, 0.46404254],\n",
       "       [0.23493718, 0.56270283, 0.20236006],\n",
       "       [0.02508824, 0.5152685 , 0.45964327],\n",
       "       [0.2009426 , 0.55696446, 0.2420929 ],\n",
       "       [0.03138188, 0.79596394, 0.17265423],\n",
       "       [0.14681694, 0.72902143, 0.12416165],\n",
       "       [0.01256755, 0.5827664 , 0.40466607],\n",
       "       [0.00997938, 0.5292508 , 0.4607698 ],\n",
       "       [0.02716696, 0.5454818 , 0.42735124],\n",
       "       [0.02467022, 0.5455046 , 0.4298252 ],\n",
       "       [0.02467022, 0.5455046 , 0.4298252 ],\n",
       "       [0.02252374, 0.5057934 , 0.47168288],\n",
       "       [0.02596765, 0.6085055 , 0.36552683],\n",
       "       [0.2524567 , 0.48116916, 0.26637417],\n",
       "       [0.01797178, 0.5181195 , 0.46390876],\n",
       "       [0.40244612, 0.5596988 , 0.03785508],\n",
       "       [0.04292687, 0.5640605 , 0.3930126 ],\n",
       "       [0.02859867, 0.50564355, 0.4657578 ],\n",
       "       [0.00946457, 0.9759276 , 0.01460786],\n",
       "       [0.03793063, 0.6592344 , 0.30283496],\n",
       "       [0.00799625, 0.8064803 , 0.18552347],\n",
       "       [0.01943176, 0.4672613 , 0.5133069 ],\n",
       "       [0.02421992, 0.51572746, 0.46005264],\n",
       "       [0.01526221, 0.4874655 , 0.49727225],\n",
       "       [0.05078419, 0.47333944, 0.4758764 ],\n",
       "       [0.3577797 , 0.53342336, 0.1087969 ],\n",
       "       [0.02761228, 0.506157  , 0.46623075],\n",
       "       [0.03743782, 0.45812187, 0.5044403 ],\n",
       "       [0.02466502, 0.5140211 , 0.4613139 ],\n",
       "       [0.01885729, 0.4909724 , 0.49017027],\n",
       "       [0.4087619 , 0.491078  , 0.10016015],\n",
       "       [0.02711673, 0.5834173 , 0.38946602],\n",
       "       [0.02508824, 0.5152685 , 0.45964327],\n",
       "       [0.0142677 , 0.5200738 , 0.46565852],\n",
       "       [0.02508824, 0.5152685 , 0.45964327],\n",
       "       [0.03919888, 0.6895103 , 0.27129084],\n",
       "       [0.01389669, 0.53255355, 0.45354974],\n",
       "       [0.03558831, 0.4789646 , 0.48544708],\n",
       "       [0.01885729, 0.4909724 , 0.49017027],\n",
       "       [0.02716696, 0.5454818 , 0.42735124],\n",
       "       [0.02421992, 0.51572746, 0.46005264],\n",
       "       [0.02657331, 0.57112867, 0.402298  ],\n",
       "       [0.03156113, 0.58611155, 0.38232732],\n",
       "       [0.02875862, 0.5824326 , 0.38880873],\n",
       "       [0.03664976, 0.65360564, 0.3097446 ],\n",
       "       [0.02801253, 0.48994306, 0.48204437],\n",
       "       [0.02523346, 0.4886881 , 0.48607847],\n",
       "       [0.03386415, 0.45964816, 0.5064877 ],\n",
       "       [0.02716696, 0.5454818 , 0.42735124],\n",
       "       [0.01337337, 0.6181938 , 0.3684328 ],\n",
       "       [0.02508824, 0.5152685 , 0.45964327],\n",
       "       [0.01587242, 0.52363724, 0.46049035],\n",
       "       [0.02467022, 0.5455046 , 0.4298252 ],\n",
       "       [0.08037033, 0.46377888, 0.4558508 ],\n",
       "       [0.02859867, 0.50564355, 0.4657578 ],\n",
       "       [0.02342764, 0.27930623, 0.6972661 ],\n",
       "       [0.02729005, 0.5141048 , 0.45860514],\n",
       "       [0.02508824, 0.5152685 , 0.45964327],\n",
       "       [0.01797178, 0.5181195 , 0.46390876],\n",
       "       [0.03317654, 0.5678463 , 0.3989772 ],\n",
       "       [0.02281171, 0.614718  , 0.36247027],\n",
       "       [0.27796504, 0.5490168 , 0.17301816],\n",
       "       [0.008322  , 0.45895648, 0.5327215 ],\n",
       "       [0.02657331, 0.57112867, 0.402298  ],\n",
       "       [0.4769835 , 0.5093374 , 0.01367906],\n",
       "       [0.05584734, 0.5803558 , 0.36379683],\n",
       "       [0.04595295, 0.7006537 , 0.25339338],\n",
       "       [0.02555426, 0.54501015, 0.42943558],\n",
       "       [0.02752766, 0.608688  , 0.36378437],\n",
       "       [0.08568387, 0.6999811 , 0.21433505],\n",
       "       [0.2262045 , 0.65540063, 0.11839482],\n",
       "       [0.02570283, 0.6167526 , 0.35754454],\n",
       "       [0.02523346, 0.4886881 , 0.48607847],\n",
       "       [0.35757446, 0.51420456, 0.12822096],\n",
       "       [0.27635998, 0.39264575, 0.33099425],\n",
       "       [0.02752766, 0.608688  , 0.36378437],\n",
       "       [0.02421992, 0.51572746, 0.46005264],\n",
       "       [0.03628629, 0.49812162, 0.46559206],\n",
       "       [0.02288943, 0.6958595 , 0.28125104],\n",
       "       [0.18030222, 0.76449233, 0.05520539],\n",
       "       [0.02856381, 0.53062665, 0.44080955],\n",
       "       [0.0434326 , 0.87207764, 0.08448973],\n",
       "       [0.04564106, 0.88391536, 0.07044355],\n",
       "       [0.04950869, 0.9303134 , 0.02017793],\n",
       "       [0.04267772, 0.5420921 , 0.41523018],\n",
       "       [0.01587242, 0.52363724, 0.46049035],\n",
       "       [0.11223137, 0.5532724 , 0.33449617],\n",
       "       [0.30876306, 0.57843375, 0.11280322],\n",
       "       [0.09398714, 0.74649113, 0.15952176],\n",
       "       [0.03414933, 0.6259869 , 0.33986375],\n",
       "       [0.02421992, 0.51572746, 0.46005264],\n",
       "       [0.02523346, 0.4886881 , 0.48607847],\n",
       "       [0.03524467, 0.8894316 , 0.07532378],\n",
       "       [0.02467022, 0.5455046 , 0.4298252 ],\n",
       "       [0.02523346, 0.4886881 , 0.48607847],\n",
       "       [0.45018694, 0.54050875, 0.00930429],\n",
       "       [0.20597999, 0.50875235, 0.28526762],\n",
       "       [0.01399542, 0.50574243, 0.4802621 ],\n",
       "       [0.0372798 , 0.45477438, 0.5079458 ],\n",
       "       [0.03141083, 0.5015412 , 0.46704793],\n",
       "       [0.02226066, 0.5158566 , 0.46188265],\n",
       "       [0.02428415, 0.56204206, 0.41367376],\n",
       "       [0.11768997, 0.578668  , 0.30364203],\n",
       "       [0.47739527, 0.44867587, 0.07392886],\n",
       "       [0.02905554, 0.6244781 , 0.3464664 ],\n",
       "       [0.08550804, 0.4944616 , 0.42003042],\n",
       "       [0.03414933, 0.6259869 , 0.33986375],\n",
       "       [0.29177216, 0.37586686, 0.332361  ],\n",
       "       [0.02901279, 0.48943886, 0.4815483 ],\n",
       "       [0.02634756, 0.5146029 , 0.45904952],\n",
       "       [0.01885729, 0.4909724 , 0.49017027],\n",
       "       [0.02523346, 0.4886881 , 0.48607847],\n",
       "       [0.01797178, 0.5181195 , 0.46390876],\n",
       "       [0.02729005, 0.5141048 , 0.45860514],\n",
       "       [0.02801253, 0.48994306, 0.48204437],\n",
       "       [0.36241153, 0.49198478, 0.1456037 ],\n",
       "       [0.02729005, 0.5141048 , 0.45860514],\n",
       "       [0.0182415 , 0.5878626 , 0.39389586],\n",
       "       [0.11223137, 0.5532724 , 0.33449617],\n",
       "       [0.39828417, 0.59068537, 0.01103045],\n",
       "       [0.02280752, 0.50775087, 0.46944165],\n",
       "       [0.44675395, 0.52906215, 0.0241839 ],\n",
       "       [0.02523346, 0.4886881 , 0.48607847],\n",
       "       [0.03544359, 0.23623548, 0.7283209 ],\n",
       "       [0.05146664, 0.67298806, 0.27554533],\n",
       "       [0.22513837, 0.4159639 , 0.35889778],\n",
       "       [0.02436023, 0.4891259 , 0.4865139 ],\n",
       "       [0.02711673, 0.5834173 , 0.38946602],\n",
       "       [0.03268384, 0.58543205, 0.3818841 ],\n",
       "       [0.02555426, 0.54501015, 0.42943558],\n",
       "       [0.03156113, 0.58611155, 0.38232732],\n",
       "       [0.70944315, 0.25223216, 0.03832466],\n",
       "       [0.04267772, 0.5420921 , 0.41523018],\n",
       "       [0.02144244, 0.5075959 , 0.47096163],\n",
       "       [0.10197878, 0.5375834 , 0.3604378 ],\n",
       "       [0.02901279, 0.48943886, 0.4815483 ]], dtype=float32)"
      ]
     },
     "execution_count": 27,
     "metadata": {},
     "output_type": "execute_result"
    }
   ],
   "source": [
    "xgc_pred_sample_proba = xgc_sample.predict_proba(X_test)\n",
    "xgc_pred_sample_proba"
   ]
  },
  {
   "cell_type": "code",
   "execution_count": 28,
   "metadata": {},
   "outputs": [
    {
     "name": "stdout",
     "output_type": "stream",
     "text": [
      "Accuracy Score: 0.525\n",
      "F1 Score: 0.525\n",
      "Precision Score: 0.525\n",
      "Recall Score: 0.525\n",
      "Log Loss: 0.9356902419030666\n"
     ]
    }
   ],
   "source": [
    "print('Accuracy Score:', accuracy_score(y_test,xgc_pred_sample))\n",
    "print('F1 Score:',f1_score(y_test,xgc_pred_sample,average='micro'))\n",
    "print('Precision Score:',precision_score(y_test,xgc_pred_sample,average='micro'))\n",
    "print('Recall Score:',recall_score(y_test,xgc_pred_sample,average='micro'))\n",
    "print('Log Loss:',log_loss(y_test,xgc_pred_sample_proba))"
   ]
  },
  {
   "cell_type": "code",
   "execution_count": 29,
   "metadata": {},
   "outputs": [
    {
     "name": "stdout",
     "output_type": "stream",
     "text": [
      "              precision    recall  f1-score   support\n",
      "\n",
      "           1       0.33      0.09      0.14        23\n",
      "           2       0.55      0.88      0.68       111\n",
      "           3       0.33      0.08      0.12        66\n",
      "\n",
      "    accuracy                           0.53       200\n",
      "   macro avg       0.40      0.35      0.31       200\n",
      "weighted avg       0.45      0.53      0.43       200\n",
      "\n"
     ]
    }
   ],
   "source": [
    "print(classification_report(y_test,xgc_pred_sample))"
   ]
  },
  {
   "cell_type": "code",
   "execution_count": 30,
   "metadata": {},
   "outputs": [
    {
     "data": {
      "text/plain": [
       "array([0.01806916, 0.02468215, 0.03158427, 0.03530367, 0.03462412,\n",
       "       0.06916451, 0.03367497, 0.03968594, 0.0172504 , 0.0694311 ,\n",
       "       0.23789324, 0.03019999, 0.02791592, 0.10247468, 0.08863985,\n",
       "       0.02594706, 0.02347544, 0.0398797 , 0.02869391, 0.02140991],\n",
       "      dtype=float32)"
      ]
     },
     "execution_count": 30,
     "metadata": {},
     "output_type": "execute_result"
    }
   ],
   "source": [
    "xgc_sample.feature_importances_"
   ]
  },
  {
   "cell_type": "code",
   "execution_count": 46,
   "metadata": {},
   "outputs": [
    {
     "data": {
      "image/png": "[encoded data removed]",
      "text/plain": [
       "<Figure size 432x288 with 1 Axes>"
      ]
     },
     "metadata": {
      "needs_background": "light"
     },
     "output_type": "display_data"
    }
   ],
   "source": [
    "plot_importance(xgc_sample)\n",
    "plt.show()"
   ]
  },
  {
   "cell_type": "markdown",
   "metadata": {},
   "source": [
    "### Conclusion: Both models gives almost similar results"
   ]
  },
  {
   "cell_type": "markdown",
   "metadata": {},
   "source": [
    "### Hence tune only GradientBoosting Classifier"
   ]
  },
  {
   "cell_type": "markdown",
   "metadata": {},
   "source": [
    "### Use Randomized Search CV"
   ]
  },
  {
   "cell_type": "code",
   "execution_count": 32,
   "metadata": {},
   "outputs": [],
   "source": [
    "grid = {'loss':['deviance', 'exponential'],\n",
    "        'learning_rate': np.arange(0.5,2.0,0.2),\n",
    "        'n_estimators': np.arange(10,500,50),\n",
    "        'min_samples_split': np.arange(2,20,2),\n",
    "        'min_samples_leaf': np.arange(1,20,2),\n",
    "        'max_depth': np.arange(1,20,1),\n",
    "        'max_features': np.arange(1,20,1)\n",
    "       }"
   ]
  },
  {
   "cell_type": "code",
   "execution_count": 33,
   "metadata": {},
   "outputs": [],
   "source": [
    "rs_gbc = RandomizedSearchCV(gbc_sample,param_distributions=grid,n_iter=20,n_jobs=-1,cv=5,verbose=2, random_state=5)"
   ]
  },
  {
   "cell_type": "code",
   "execution_count": 34,
   "metadata": {},
   "outputs": [
    {
     "name": "stdout",
     "output_type": "stream",
     "text": [
      "Fitting 5 folds for each of 20 candidates, totalling 100 fits\n"
     ]
    },
    {
     "name": "stderr",
     "output_type": "stream",
     "text": [
      "[Parallel(n_jobs=-1)]: Using backend LokyBackend with 4 concurrent workers.\n",
      "[Parallel(n_jobs=-1)]: Done  33 tasks      | elapsed:    7.0s\n",
      "[Parallel(n_jobs=-1)]: Done 100 out of 100 | elapsed:   37.2s finished\n"
     ]
    },
    {
     "data": {
      "text/plain": [
       "RandomizedSearchCV(cv=5, error_score=nan,\n",
       "                   estimator=GradientBoostingClassifier(ccp_alpha=0.0,\n",
       "                                                        criterion='friedman_mse',\n",
       "                                                        init=None,\n",
       "                                                        learning_rate=0.1,\n",
       "                                                        loss='deviance',\n",
       "                                                        max_depth=3,\n",
       "                                                        max_features=None,\n",
       "                                                        max_leaf_nodes=None,\n",
       "                                                        min_impurity_decrease=0.0,\n",
       "                                                        min_impurity_split=None,\n",
       "                                                        min_samples_leaf=1,\n",
       "                                                        min_samples_split=2,\n",
       "                                                        min_weight_fraction_leaf=0.0,\n",
       "                                                        n_estimators=100,\n",
       "                                                        n_ite...\n",
       "                                        'max_depth': array([ 1,  2,  3,  4,  5,  6,  7,  8,  9, 10, 11, 12, 13, 14, 15, 16, 17,\n",
       "       18, 19]),\n",
       "                                        'max_features': array([ 1,  2,  3,  4,  5,  6,  7,  8,  9, 10, 11, 12, 13, 14, 15, 16, 17,\n",
       "       18, 19]),\n",
       "                                        'min_samples_leaf': array([ 1,  3,  5,  7,  9, 11, 13, 15, 17, 19]),\n",
       "                                        'min_samples_split': array([ 2,  4,  6,  8, 10, 12, 14, 16, 18]),\n",
       "                                        'n_estimators': array([ 10,  60, 110, 160, 210, 260, 310, 360, 410, 460])},\n",
       "                   pre_dispatch='2*n_jobs', random_state=5, refit=True,\n",
       "                   return_train_score=False, scoring=None, verbose=2)"
      ]
     },
     "execution_count": 34,
     "metadata": {},
     "output_type": "execute_result"
    }
   ],
   "source": [
    "rs_gbc.fit(X_train,y_train)"
   ]
  },
  {
   "cell_type": "code",
   "execution_count": 35,
   "metadata": {},
   "outputs": [
    {
     "data": {
      "text/plain": [
       "{'n_estimators': 110,\n",
       " 'min_samples_split': 6,\n",
       " 'min_samples_leaf': 9,\n",
       " 'max_features': 9,\n",
       " 'max_depth': 1,\n",
       " 'loss': 'deviance',\n",
       " 'learning_rate': 1.0999999999999999}"
      ]
     },
     "execution_count": 35,
     "metadata": {},
     "output_type": "execute_result"
    }
   ],
   "source": [
    "rs_gbc.best_params_"
   ]
  },
  {
   "cell_type": "code",
   "execution_count": 36,
   "metadata": {},
   "outputs": [
    {
     "data": {
      "text/plain": [
       "array([2, 2, 2, 1, 3, 2, 2, 2, 2, 2, 2, 2, 2, 1, 2, 2, 1, 2, 2, 1, 2, 2,\n",
       "       1, 3, 3, 2, 2, 2, 2, 3, 2, 2, 2, 3, 3, 3, 1, 2, 2, 2, 2, 2, 2, 2,\n",
       "       2, 2, 2, 2, 3, 2, 2, 2, 2, 2, 2, 2, 3, 2, 3, 2, 2, 2, 2, 2, 2, 2,\n",
       "       2, 2, 2, 2, 3, 2, 2, 2, 2, 3, 2, 2, 2, 2, 2, 2, 2, 2, 2, 3, 2, 3,\n",
       "       3, 2, 2, 3, 3, 3, 2, 2, 2, 2, 2, 2, 2, 2, 3, 2, 2, 2, 2, 2, 2, 3,\n",
       "       3, 3, 2, 2, 2, 2, 2, 2, 2, 3, 2, 2, 2, 2, 2, 2, 2, 2, 1, 2, 2, 3,\n",
       "       2, 2, 2, 2, 3, 1, 2, 2, 2, 2, 2, 2, 2, 2, 2, 2, 2, 2, 2, 2, 2, 2,\n",
       "       2, 3, 2, 2, 3, 1, 2, 3, 3, 2, 2, 2, 2, 1, 2, 2, 2, 2, 3, 2, 3, 3,\n",
       "       2, 2, 3, 2, 2, 2, 2, 2, 2, 2, 3, 3, 2, 2, 3, 2, 2, 2, 2, 2, 2, 2,\n",
       "       2, 3], dtype=int64)"
      ]
     },
     "execution_count": 36,
     "metadata": {},
     "output_type": "execute_result"
    }
   ],
   "source": [
    "rs_pred = rs_gbc.predict(X_test)\n",
    "rs_pred "
   ]
  },
  {
   "cell_type": "code",
   "execution_count": 37,
   "metadata": {},
   "outputs": [
    {
     "name": "stdout",
     "output_type": "stream",
     "text": [
      "Accuracy Score: 0.465\n",
      "F1 Score: 0.465\n",
      "Precision Score: 0.465\n",
      "Recall Score: 0.465\n"
     ]
    }
   ],
   "source": [
    "print('Accuracy Score:', accuracy_score(y_test,rs_pred))\n",
    "print('F1 Score:',f1_score(y_test,rs_pred,average='micro'))\n",
    "print('Precision Score:',precision_score(y_test,rs_pred,average='micro'))\n",
    "print('Recall Score:',recall_score(y_test,rs_pred,average='micro'))\n",
    "#print('Log Loss:',log_loss(y_test,gbc_pred_sample_proba))"
   ]
  },
  {
   "cell_type": "code",
   "execution_count": 38,
   "metadata": {},
   "outputs": [
    {
     "name": "stdout",
     "output_type": "stream",
     "text": [
      "              precision    recall  f1-score   support\n",
      "\n",
      "           1       0.30      0.13      0.18        23\n",
      "           2       0.52      0.72      0.61       111\n",
      "           3       0.27      0.15      0.19        66\n",
      "\n",
      "    accuracy                           0.47       200\n",
      "   macro avg       0.36      0.33      0.33       200\n",
      "weighted avg       0.41      0.47      0.42       200\n",
      "\n"
     ]
    }
   ],
   "source": [
    "print(classification_report(y_test,rs_pred))"
   ]
  },
  {
   "cell_type": "markdown",
   "metadata": {},
   "source": [
    "### Use Grid Search CV"
   ]
  },
  {
   "cell_type": "code",
   "execution_count": 39,
   "metadata": {},
   "outputs": [],
   "source": [
    "gs_grid = {'loss':['deviance'],\n",
    "        'learning_rate': np.arange(0.9,1.3,0.2),\n",
    "        'n_estimators': np.arange(100,150,10),\n",
    "        'min_samples_split': np.arange(6,10,2),\n",
    "        'min_samples_leaf': np.arange(8,11,1),\n",
    "        'max_depth': np.arange(1,3,1),\n",
    "        'max_features': np.arange(8,10,1)\n",
    "       }"
   ]
  },
  {
   "cell_type": "code",
   "execution_count": 40,
   "metadata": {},
   "outputs": [],
   "source": [
    "gs_gbc = GridSearchCV(estimator=gbc_sample,param_grid=gs_grid,scoring='f1_micro',n_jobs=-1,cv=5,verbose=True)"
   ]
  },
  {
   "cell_type": "code",
   "execution_count": 41,
   "metadata": {},
   "outputs": [
    {
     "name": "stdout",
     "output_type": "stream",
     "text": [
      "Fitting 5 folds for each of 240 candidates, totalling 1200 fits\n"
     ]
    },
    {
     "name": "stderr",
     "output_type": "stream",
     "text": [
      "[Parallel(n_jobs=-1)]: Using backend LokyBackend with 4 concurrent workers.\n",
      "[Parallel(n_jobs=-1)]: Done  42 tasks      | elapsed:    5.0s\n",
      "[Parallel(n_jobs=-1)]: Done 192 tasks      | elapsed:   25.5s\n",
      "[Parallel(n_jobs=-1)]: Done 442 tasks      | elapsed:  1.2min\n",
      "[Parallel(n_jobs=-1)]: Done 792 tasks      | elapsed:  2.0min\n",
      "[Parallel(n_jobs=-1)]: Done 1200 out of 1200 | elapsed:  3.2min finished\n"
     ]
    },
    {
     "data": {
      "text/plain": [
       "GridSearchCV(cv=5, error_score=nan,\n",
       "             estimator=GradientBoostingClassifier(ccp_alpha=0.0,\n",
       "                                                  criterion='friedman_mse',\n",
       "                                                  init=None, learning_rate=0.1,\n",
       "                                                  loss='deviance', max_depth=3,\n",
       "                                                  max_features=None,\n",
       "                                                  max_leaf_nodes=None,\n",
       "                                                  min_impurity_decrease=0.0,\n",
       "                                                  min_impurity_split=None,\n",
       "                                                  min_samples_leaf=1,\n",
       "                                                  min_samples_split=2,\n",
       "                                                  min_weight_fraction_leaf=0.0,\n",
       "                                                  n_estimators=100,\n",
       "                                                  n_iter_no_c...\n",
       "             iid='deprecated', n_jobs=-1,\n",
       "             param_grid={'learning_rate': array([0.9, 1.1]),\n",
       "                         'loss': ['deviance'], 'max_depth': array([1, 2]),\n",
       "                         'max_features': array([8, 9]),\n",
       "                         'min_samples_leaf': array([ 8,  9, 10]),\n",
       "                         'min_samples_split': array([6, 8]),\n",
       "                         'n_estimators': array([100, 110, 120, 130, 140])},\n",
       "             pre_dispatch='2*n_jobs', refit=True, return_train_score=False,\n",
       "             scoring='f1_micro', verbose=True)"
      ]
     },
     "execution_count": 41,
     "metadata": {},
     "output_type": "execute_result"
    }
   ],
   "source": [
    "gs_gbc.fit(X_train,y_train)"
   ]
  },
  {
   "cell_type": "code",
   "execution_count": 42,
   "metadata": {},
   "outputs": [
    {
     "data": {
      "text/plain": [
       "{'learning_rate': 0.9,\n",
       " 'loss': 'deviance',\n",
       " 'max_depth': 1,\n",
       " 'max_features': 8,\n",
       " 'min_samples_leaf': 8,\n",
       " 'min_samples_split': 6,\n",
       " 'n_estimators': 100}"
      ]
     },
     "execution_count": 42,
     "metadata": {},
     "output_type": "execute_result"
    }
   ],
   "source": [
    "gs_gbc.best_params_"
   ]
  },
  {
   "cell_type": "markdown",
   "metadata": {},
   "source": [
    "### Best hyperparameters\n",
    "\n",
    "- 'learning_rate': 1.1,\n",
    "- 'loss': 'deviance',\n",
    "- 'max_depth': 1,\n",
    "- 'max_features': 8,\n",
    "- 'min_samples_leaf': 10,\n",
    "- 'min_samples_split': 8,\n",
    "- 'n_estimators': 110"
   ]
  },
  {
   "cell_type": "code",
   "execution_count": 47,
   "metadata": {},
   "outputs": [
    {
     "data": {
      "text/plain": [
       "array([2, 2, 2, 1, 3, 2, 2, 2, 2, 2, 2, 2, 2, 1, 2, 2, 1, 2, 2, 2, 2, 2,\n",
       "       1, 3, 3, 2, 2, 2, 2, 3, 2, 2, 2, 3, 3, 3, 1, 2, 2, 2, 2, 2, 2, 2,\n",
       "       2, 2, 2, 2, 3, 2, 2, 2, 2, 2, 2, 2, 3, 2, 3, 2, 2, 2, 2, 2, 2, 2,\n",
       "       2, 2, 2, 2, 3, 2, 2, 2, 2, 3, 2, 2, 2, 2, 2, 2, 2, 2, 2, 3, 2, 3,\n",
       "       3, 2, 2, 3, 3, 3, 2, 2, 2, 2, 2, 2, 2, 2, 3, 2, 2, 2, 2, 2, 2, 3,\n",
       "       3, 3, 2, 2, 2, 2, 2, 2, 2, 3, 2, 2, 2, 2, 2, 2, 2, 2, 1, 2, 2, 3,\n",
       "       2, 2, 2, 2, 3, 1, 2, 2, 2, 2, 2, 2, 2, 2, 2, 2, 2, 2, 2, 2, 2, 2,\n",
       "       2, 3, 2, 2, 3, 1, 2, 3, 3, 2, 2, 2, 2, 1, 2, 2, 2, 2, 3, 2, 3, 3,\n",
       "       2, 2, 3, 2, 2, 2, 2, 2, 2, 2, 3, 3, 2, 2, 3, 2, 2, 2, 2, 1, 2, 2,\n",
       "       2, 3], dtype=int64)"
      ]
     },
     "execution_count": 47,
     "metadata": {},
     "output_type": "execute_result"
    }
   ],
   "source": [
    "gs_pred = gs_gbc.predict(X_test)\n",
    "gs_pred "
   ]
  },
  {
   "cell_type": "code",
   "execution_count": 48,
   "metadata": {},
   "outputs": [
    {
     "name": "stdout",
     "output_type": "stream",
     "text": [
      "Accuracy Score: 0.475\n",
      "F1 Score: 0.47500000000000003\n",
      "Precision Score: 0.475\n",
      "Recall Score: 0.475\n"
     ]
    }
   ],
   "source": [
    "print('Accuracy Score:', accuracy_score(y_test,gs_pred))\n",
    "print('F1 Score:',f1_score(y_test,gs_pred,average='micro'))\n",
    "print('Precision Score:',precision_score(y_test,gs_pred,average='micro'))\n",
    "print('Recall Score:',recall_score(y_test,gs_pred,average='micro'))\n",
    "#print('Log Loss:',log_loss(y_test,gbc_pred_sample_proba))"
   ]
  },
  {
   "cell_type": "code",
   "execution_count": 49,
   "metadata": {},
   "outputs": [
    {
     "name": "stdout",
     "output_type": "stream",
     "text": [
      "              precision    recall  f1-score   support\n",
      "\n",
      "           1       0.40      0.17      0.24        23\n",
      "           2       0.53      0.73      0.61       111\n",
      "           3       0.27      0.15      0.19        66\n",
      "\n",
      "    accuracy                           0.48       200\n",
      "   macro avg       0.40      0.35      0.35       200\n",
      "weighted avg       0.43      0.47      0.43       200\n",
      "\n"
     ]
    }
   ],
   "source": [
    "print(classification_report(y_test,gs_pred))"
   ]
  },
  {
   "cell_type": "markdown",
   "metadata": {},
   "source": [
    "### Cross-validation"
   ]
  },
  {
   "cell_type": "markdown",
   "metadata": {},
   "source": [
    "### Split data into train, validation and test sets"
   ]
  },
  {
   "cell_type": "code",
   "execution_count": 50,
   "metadata": {},
   "outputs": [
    {
     "data": {
      "text/plain": [
       "(10000, 21)"
      ]
     },
     "execution_count": 50,
     "metadata": {},
     "output_type": "execute_result"
    }
   ],
   "source": [
    "df.shape"
   ]
  },
  {
   "cell_type": "code",
   "execution_count": 51,
   "metadata": {},
   "outputs": [],
   "source": [
    "X = df.iloc[:,0:20]\n",
    "y = df.iloc[:,20]"
   ]
  },
  {
   "cell_type": "code",
   "execution_count": 52,
   "metadata": {},
   "outputs": [
    {
     "data": {
      "text/html": [
       "<div>\n",
       "<style scoped>\n",
       "    .dataframe tbody tr th:only-of-type {\n",
       "        vertical-align: middle;\n",
       "    }\n",
       "\n",
       "    .dataframe tbody tr th {\n",
       "        vertical-align: top;\n",
       "    }\n",
       "\n",
       "    .dataframe thead th {\n",
       "        text-align: right;\n",
       "    }\n",
       "</style>\n",
       "<table border=\"1\" class=\"dataframe\">\n",
       "  <thead>\n",
       "    <tr style=\"text-align: right;\">\n",
       "      <th></th>\n",
       "      <th>count_floors_pre_eq</th>\n",
       "      <th>age</th>\n",
       "      <th>height</th>\n",
       "      <th>L1</th>\n",
       "      <th>L2</th>\n",
       "      <th>F1</th>\n",
       "      <th>F2</th>\n",
       "      <th>F3</th>\n",
       "      <th>F4</th>\n",
       "      <th>has_superstructure_adobe_mud</th>\n",
       "      <th>has_superstructure_mud_mortar_stone</th>\n",
       "      <th>has_superstructure_stone_flag</th>\n",
       "      <th>has_superstructure_cement_mortar_stone</th>\n",
       "      <th>has_superstructure_mud_mortar_brick</th>\n",
       "      <th>has_superstructure_cement_mortar_brick</th>\n",
       "      <th>has_superstructure_timber</th>\n",
       "      <th>has_superstructure_bamboo</th>\n",
       "      <th>has_superstructure_rc_non_engineered</th>\n",
       "      <th>has_superstructure_rc_engineered</th>\n",
       "      <th>has_superstructure_other</th>\n",
       "    </tr>\n",
       "  </thead>\n",
       "  <tbody>\n",
       "    <tr>\n",
       "      <th>0</th>\n",
       "      <td>0.125</td>\n",
       "      <td>0.125</td>\n",
       "      <td>0.096774</td>\n",
       "      <td>0</td>\n",
       "      <td>1</td>\n",
       "      <td>0</td>\n",
       "      <td>0</td>\n",
       "      <td>0</td>\n",
       "      <td>0</td>\n",
       "      <td>0</td>\n",
       "      <td>1</td>\n",
       "      <td>0</td>\n",
       "      <td>0</td>\n",
       "      <td>0</td>\n",
       "      <td>0</td>\n",
       "      <td>0</td>\n",
       "      <td>0</td>\n",
       "      <td>0</td>\n",
       "      <td>0</td>\n",
       "      <td>0</td>\n",
       "    </tr>\n",
       "    <tr>\n",
       "      <th>1</th>\n",
       "      <td>0.250</td>\n",
       "      <td>0.075</td>\n",
       "      <td>0.129032</td>\n",
       "      <td>0</td>\n",
       "      <td>1</td>\n",
       "      <td>0</td>\n",
       "      <td>0</td>\n",
       "      <td>0</td>\n",
       "      <td>0</td>\n",
       "      <td>0</td>\n",
       "      <td>1</td>\n",
       "      <td>0</td>\n",
       "      <td>0</td>\n",
       "      <td>0</td>\n",
       "      <td>0</td>\n",
       "      <td>0</td>\n",
       "      <td>0</td>\n",
       "      <td>0</td>\n",
       "      <td>0</td>\n",
       "      <td>0</td>\n",
       "    </tr>\n",
       "    <tr>\n",
       "      <th>2</th>\n",
       "      <td>0.000</td>\n",
       "      <td>0.100</td>\n",
       "      <td>0.032258</td>\n",
       "      <td>0</td>\n",
       "      <td>1</td>\n",
       "      <td>0</td>\n",
       "      <td>0</td>\n",
       "      <td>0</td>\n",
       "      <td>0</td>\n",
       "      <td>0</td>\n",
       "      <td>1</td>\n",
       "      <td>0</td>\n",
       "      <td>0</td>\n",
       "      <td>1</td>\n",
       "      <td>0</td>\n",
       "      <td>0</td>\n",
       "      <td>0</td>\n",
       "      <td>0</td>\n",
       "      <td>0</td>\n",
       "      <td>0</td>\n",
       "    </tr>\n",
       "    <tr>\n",
       "      <th>3</th>\n",
       "      <td>0.125</td>\n",
       "      <td>0.025</td>\n",
       "      <td>0.064516</td>\n",
       "      <td>0</td>\n",
       "      <td>1</td>\n",
       "      <td>0</td>\n",
       "      <td>0</td>\n",
       "      <td>0</td>\n",
       "      <td>0</td>\n",
       "      <td>0</td>\n",
       "      <td>1</td>\n",
       "      <td>0</td>\n",
       "      <td>0</td>\n",
       "      <td>0</td>\n",
       "      <td>0</td>\n",
       "      <td>0</td>\n",
       "      <td>0</td>\n",
       "      <td>0</td>\n",
       "      <td>0</td>\n",
       "      <td>0</td>\n",
       "    </tr>\n",
       "    <tr>\n",
       "      <th>4</th>\n",
       "      <td>0.250</td>\n",
       "      <td>0.000</td>\n",
       "      <td>0.161290</td>\n",
       "      <td>0</td>\n",
       "      <td>1</td>\n",
       "      <td>0</td>\n",
       "      <td>0</td>\n",
       "      <td>0</td>\n",
       "      <td>0</td>\n",
       "      <td>0</td>\n",
       "      <td>1</td>\n",
       "      <td>0</td>\n",
       "      <td>0</td>\n",
       "      <td>0</td>\n",
       "      <td>0</td>\n",
       "      <td>0</td>\n",
       "      <td>0</td>\n",
       "      <td>0</td>\n",
       "      <td>0</td>\n",
       "      <td>0</td>\n",
       "    </tr>\n",
       "  </tbody>\n",
       "</table>\n",
       "</div>"
      ],
      "text/plain": [
       "   count_floors_pre_eq    age    height  L1  L2  F1  F2  F3  F4  \\\n",
       "0                0.125  0.125  0.096774   0   1   0   0   0   0   \n",
       "1                0.250  0.075  0.129032   0   1   0   0   0   0   \n",
       "2                0.000  0.100  0.032258   0   1   0   0   0   0   \n",
       "3                0.125  0.025  0.064516   0   1   0   0   0   0   \n",
       "4                0.250  0.000  0.161290   0   1   0   0   0   0   \n",
       "\n",
       "   has_superstructure_adobe_mud  has_superstructure_mud_mortar_stone  \\\n",
       "0                             0                                    1   \n",
       "1                             0                                    1   \n",
       "2                             0                                    1   \n",
       "3                             0                                    1   \n",
       "4                             0                                    1   \n",
       "\n",
       "   has_superstructure_stone_flag  has_superstructure_cement_mortar_stone  \\\n",
       "0                              0                                       0   \n",
       "1                              0                                       0   \n",
       "2                              0                                       0   \n",
       "3                              0                                       0   \n",
       "4                              0                                       0   \n",
       "\n",
       "   has_superstructure_mud_mortar_brick  \\\n",
       "0                                    0   \n",
       "1                                    0   \n",
       "2                                    1   \n",
       "3                                    0   \n",
       "4                                    0   \n",
       "\n",
       "   has_superstructure_cement_mortar_brick  has_superstructure_timber  \\\n",
       "0                                       0                          0   \n",
       "1                                       0                          0   \n",
       "2                                       0                          0   \n",
       "3                                       0                          0   \n",
       "4                                       0                          0   \n",
       "\n",
       "   has_superstructure_bamboo  has_superstructure_rc_non_engineered  \\\n",
       "0                          0                                     0   \n",
       "1                          0                                     0   \n",
       "2                          0                                     0   \n",
       "3                          0                                     0   \n",
       "4                          0                                     0   \n",
       "\n",
       "   has_superstructure_rc_engineered  has_superstructure_other  \n",
       "0                                 0                         0  \n",
       "1                                 0                         0  \n",
       "2                                 0                         0  \n",
       "3                                 0                         0  \n",
       "4                                 0                         0  "
      ]
     },
     "execution_count": 52,
     "metadata": {},
     "output_type": "execute_result"
    }
   ],
   "source": [
    "X.head()"
   ]
  },
  {
   "cell_type": "code",
   "execution_count": 53,
   "metadata": {},
   "outputs": [
    {
     "data": {
      "text/plain": [
       "0    2\n",
       "1    3\n",
       "2    2\n",
       "3    2\n",
       "4    3\n",
       "Name: damage_grade, dtype: int64"
      ]
     },
     "execution_count": 53,
     "metadata": {},
     "output_type": "execute_result"
    }
   ],
   "source": [
    "y.head()"
   ]
  },
  {
   "cell_type": "code",
   "execution_count": 54,
   "metadata": {},
   "outputs": [
    {
     "data": {
      "text/plain": [
       "((10000, 20), (10000,))"
      ]
     },
     "execution_count": 54,
     "metadata": {},
     "output_type": "execute_result"
    }
   ],
   "source": [
    "X.shape, y.shape"
   ]
  },
  {
   "cell_type": "code",
   "execution_count": 55,
   "metadata": {},
   "outputs": [
    {
     "data": {
      "text/plain": [
       "(array([[0.125     , 0.125     , 0.09677419, ..., 0.        , 0.        ,\n",
       "         0.        ],\n",
       "        [0.25      , 0.075     , 0.12903226, ..., 0.        , 0.        ,\n",
       "         0.        ],\n",
       "        [0.        , 0.1       , 0.03225807, ..., 0.        , 0.        ,\n",
       "         0.        ],\n",
       "        ...,\n",
       "        [0.125     , 0.075     , 0.12903226, ..., 0.        , 0.        ,\n",
       "         0.        ],\n",
       "        [0.125     , 0.1       , 0.16129032, ..., 0.        , 0.        ,\n",
       "         0.        ],\n",
       "        [0.125     , 0.2       , 0.06451613, ..., 0.        , 0.        ,\n",
       "         0.        ]]), array([2, 3, 2, ..., 2, 3, 2], dtype=int64))"
      ]
     },
     "execution_count": 55,
     "metadata": {},
     "output_type": "execute_result"
    }
   ],
   "source": [
    "X.values, y.values"
   ]
  },
  {
   "cell_type": "code",
   "execution_count": 56,
   "metadata": {},
   "outputs": [],
   "source": [
    "#Create the final model with best hyperparameter\n",
    "\n",
    "gbc_final = GradientBoostingClassifier(loss='deviance',learning_rate=1.1,n_estimators=110,\n",
    "                                       min_samples_split=8, min_samples_leaf=10, max_depth=1, max_features=8,\n",
    "                                       random_state=5, verbose=True, validation_fraction=0.2,\n",
    "                                       n_iter_no_change=5, tol=0.01)"
   ]
  },
  {
   "cell_type": "code",
   "execution_count": 57,
   "metadata": {},
   "outputs": [
    {
     "name": "stderr",
     "output_type": "stream",
     "text": [
      "[Parallel(n_jobs=-1)]: Using backend LokyBackend with 4 concurrent workers.\n",
      "[Parallel(n_jobs=-1)]: Done   5 out of   5 | elapsed:    0.8s finished\n"
     ]
    }
   ],
   "source": [
    "cv_acc = cross_val_score(gbc_final,X,y,scoring='accuracy',cv=5,n_jobs=-1,verbose=2)"
   ]
  },
  {
   "cell_type": "code",
   "execution_count": 58,
   "metadata": {},
   "outputs": [
    {
     "data": {
      "text/plain": [
       "array([0.5715, 0.5865, 0.5665, 0.5615, 0.5795])"
      ]
     },
     "execution_count": 58,
     "metadata": {},
     "output_type": "execute_result"
    }
   ],
   "source": [
    "cv_acc"
   ]
  },
  {
   "cell_type": "code",
   "execution_count": 59,
   "metadata": {},
   "outputs": [
    {
     "data": {
      "text/plain": [
       "0.5730999999999999"
      ]
     },
     "execution_count": 59,
     "metadata": {},
     "output_type": "execute_result"
    }
   ],
   "source": [
    "cv_acc_avg = np.mean(cv_acc)\n",
    "cv_acc_avg"
   ]
  },
  {
   "cell_type": "code",
   "execution_count": 60,
   "metadata": {},
   "outputs": [
    {
     "name": "stderr",
     "output_type": "stream",
     "text": [
      "[Parallel(n_jobs=-1)]: Using backend LokyBackend with 4 concurrent workers.\n",
      "[Parallel(n_jobs=-1)]: Done   5 out of   5 | elapsed:    0.8s finished\n"
     ]
    }
   ],
   "source": [
    "cv_f1 = cross_val_score(gbc_final,X,y,scoring='f1_micro',cv=5,n_jobs=-1,verbose=2)"
   ]
  },
  {
   "cell_type": "code",
   "execution_count": 61,
   "metadata": {},
   "outputs": [
    {
     "data": {
      "text/plain": [
       "array([0.5715, 0.5865, 0.5665, 0.5615, 0.5795])"
      ]
     },
     "execution_count": 61,
     "metadata": {},
     "output_type": "execute_result"
    }
   ],
   "source": [
    "cv_f1"
   ]
  },
  {
   "cell_type": "code",
   "execution_count": 62,
   "metadata": {},
   "outputs": [
    {
     "data": {
      "text/plain": [
       "0.5730999999999999"
      ]
     },
     "execution_count": 62,
     "metadata": {},
     "output_type": "execute_result"
    }
   ],
   "source": [
    "cv_f1_avg = np.mean(cv_f1)\n",
    "cv_f1_avg"
   ]
  },
  {
   "cell_type": "markdown",
   "metadata": {},
   "source": [
    "### Train the final model and predict"
   ]
  },
  {
   "cell_type": "code",
   "execution_count": 63,
   "metadata": {},
   "outputs": [],
   "source": [
    "X_train, X_test, y_train, y_test = train_test_split(X,y,test_size=0.20)"
   ]
  },
  {
   "cell_type": "code",
   "execution_count": 64,
   "metadata": {},
   "outputs": [
    {
     "data": {
      "text/plain": [
       "((8000, 20), (2000, 20))"
      ]
     },
     "execution_count": 64,
     "metadata": {},
     "output_type": "execute_result"
    }
   ],
   "source": [
    "X_train.shape, X_test.shape"
   ]
  },
  {
   "cell_type": "code",
   "execution_count": 65,
   "metadata": {},
   "outputs": [
    {
     "data": {
      "text/plain": [
       "((8000,), (2000,))"
      ]
     },
     "execution_count": 65,
     "metadata": {},
     "output_type": "execute_result"
    }
   ],
   "source": [
    "y_train.shape, y_test.shape"
   ]
  },
  {
   "cell_type": "code",
   "execution_count": 66,
   "metadata": {},
   "outputs": [],
   "source": [
    "gbc_final = GradientBoostingClassifier(loss='deviance',learning_rate=1.1,n_estimators=110,\n",
    "                                       min_samples_split=8, min_samples_leaf=10, max_depth=1, max_features=8,\n",
    "                                       random_state=5, verbose=True, validation_fraction=0.2,\n",
    "                                       n_iter_no_change=5, tol=0.01)"
   ]
  },
  {
   "cell_type": "code",
   "execution_count": 67,
   "metadata": {},
   "outputs": [
    {
     "name": "stdout",
     "output_type": "stream",
     "text": [
      "      Iter       Train Loss   Remaining Time \n",
      "         1        5568.3683            0.00s\n",
      "         2        5425.0510            1.69s\n",
      "         3        5341.8304            1.11s\n",
      "         4        5286.7197            1.24s\n",
      "         5        5253.3694            1.31s\n",
      "         6        5235.5279            1.08s\n",
      "         7        5223.3888            1.15s\n",
      "         8        5212.4146            1.00s\n",
      "         9        5201.1373            1.12s\n",
      "        10        5194.6670            1.00s\n",
      "        20        5136.6256            0.80s\n"
     ]
    },
    {
     "data": {
      "text/plain": [
       "GradientBoostingClassifier(ccp_alpha=0.0, criterion='friedman_mse', init=None,\n",
       "                           learning_rate=1.1, loss='deviance', max_depth=1,\n",
       "                           max_features=8, max_leaf_nodes=None,\n",
       "                           min_impurity_decrease=0.0, min_impurity_split=None,\n",
       "                           min_samples_leaf=10, min_samples_split=8,\n",
       "                           min_weight_fraction_leaf=0.0, n_estimators=110,\n",
       "                           n_iter_no_change=5, presort='deprecated',\n",
       "                           random_state=5, subsample=1.0, tol=0.01,\n",
       "                           validation_fraction=0.2, verbose=True,\n",
       "                           warm_start=False)"
      ]
     },
     "execution_count": 67,
     "metadata": {},
     "output_type": "execute_result"
    }
   ],
   "source": [
    "gbc_final.fit(X_train,y_train)"
   ]
  },
  {
   "cell_type": "code",
   "execution_count": 68,
   "metadata": {},
   "outputs": [
    {
     "data": {
      "text/plain": [
       "array([2, 2, 2, ..., 3, 2, 3], dtype=int64)"
      ]
     },
     "execution_count": 68,
     "metadata": {},
     "output_type": "execute_result"
    }
   ],
   "source": [
    "gbc_final_pred = gbc_final.predict(X_test)\n",
    "gbc_final_pred"
   ]
  },
  {
   "cell_type": "code",
   "execution_count": 69,
   "metadata": {},
   "outputs": [
    {
     "data": {
      "text/plain": [
       "array([[0.03541801, 0.57554611, 0.38903588],\n",
       "       [0.05378135, 0.6821458 , 0.26407285],\n",
       "       [0.05528908, 0.58393664, 0.36077428],\n",
       "       ...,\n",
       "       [0.01047264, 0.4669876 , 0.52253976],\n",
       "       [0.02756489, 0.53979572, 0.43263939],\n",
       "       [0.05388574, 0.4176825 , 0.52843176]])"
      ]
     },
     "execution_count": 69,
     "metadata": {},
     "output_type": "execute_result"
    }
   ],
   "source": [
    "gbc_final_pred_proba = gbc_final.predict_proba(X_test)\n",
    "gbc_final_pred_proba"
   ]
  },
  {
   "cell_type": "markdown",
   "metadata": {},
   "source": [
    "### Model Evaluation"
   ]
  },
  {
   "cell_type": "code",
   "execution_count": 70,
   "metadata": {},
   "outputs": [
    {
     "name": "stdout",
     "output_type": "stream",
     "text": [
      "Accuracy Score: 0.5605\n",
      "F1 Score: 0.5605\n",
      "Precision Score: 0.5605\n",
      "Recall Score: 0.5605\n",
      "Log Loss: 0.8085008525401792\n"
     ]
    }
   ],
   "source": [
    "print('Accuracy Score:', accuracy_score(y_test,gbc_final_pred))\n",
    "print('F1 Score:',f1_score(y_test,gbc_final_pred,average='micro'))\n",
    "print('Precision Score:',precision_score(y_test,gbc_final_pred,average='micro'))\n",
    "print('Recall Score:',recall_score(y_test,gbc_final_pred,average='micro'))\n",
    "print('Log Loss:',log_loss(y_test,gbc_final_pred_proba))"
   ]
  },
  {
   "cell_type": "code",
   "execution_count": 71,
   "metadata": {},
   "outputs": [
    {
     "name": "stdout",
     "output_type": "stream",
     "text": [
      "              precision    recall  f1-score   support\n",
      "\n",
      "           1       0.61      0.28      0.39       191\n",
      "           2       0.58      0.82      0.68      1117\n",
      "           3       0.47      0.21      0.29       692\n",
      "\n",
      "    accuracy                           0.56      2000\n",
      "   macro avg       0.55      0.44      0.45      2000\n",
      "weighted avg       0.54      0.56      0.52      2000\n",
      "\n"
     ]
    }
   ],
   "source": [
    "print(classification_report(y_test,gbc_final_pred))"
   ]
  },
  {
   "cell_type": "code",
   "execution_count": 72,
   "metadata": {},
   "outputs": [
    {
     "data": {
      "image/png": "[encoded data removed]",
      "text/plain": [
       "<Figure size 432x288 with 2 Axes>"
      ]
     },
     "metadata": {
      "needs_background": "light"
     },
     "output_type": "display_data"
    }
   ],
   "source": [
    "plot_confusion_matrix(gbc_final,X_test,y_test,values_format='.3g',cmap='YlOrRd')\n",
    "plt.show()"
   ]
  },
  {
   "cell_type": "markdown",
   "metadata": {},
   "source": [
    "### Load test set"
   ]
  },
  {
   "cell_type": "code",
   "execution_count": 73,
   "metadata": {},
   "outputs": [],
   "source": [
    "dftest = pd.read_csv(\"test.csv\")"
   ]
  },
  {
   "cell_type": "code",
   "execution_count": 74,
   "metadata": {},
   "outputs": [
    {
     "data": {
      "text/html": [
       "<div>\n",
       "<style scoped>\n",
       "    .dataframe tbody tr th:only-of-type {\n",
       "        vertical-align: middle;\n",
       "    }\n",
       "\n",
       "    .dataframe tbody tr th {\n",
       "        vertical-align: top;\n",
       "    }\n",
       "\n",
       "    .dataframe thead th {\n",
       "        text-align: right;\n",
       "    }\n",
       "</style>\n",
       "<table border=\"1\" class=\"dataframe\">\n",
       "  <thead>\n",
       "    <tr style=\"text-align: right;\">\n",
       "      <th></th>\n",
       "      <th>count_floors_pre_eq</th>\n",
       "      <th>age</th>\n",
       "      <th>height</th>\n",
       "      <th>L1</th>\n",
       "      <th>L2</th>\n",
       "      <th>F1</th>\n",
       "      <th>F2</th>\n",
       "      <th>F3</th>\n",
       "      <th>F4</th>\n",
       "      <th>has_superstructure_adobe_mud</th>\n",
       "      <th>has_superstructure_mud_mortar_stone</th>\n",
       "      <th>has_superstructure_stone_flag</th>\n",
       "      <th>has_superstructure_cement_mortar_stone</th>\n",
       "      <th>has_superstructure_mud_mortar_brick</th>\n",
       "      <th>has_superstructure_cement_mortar_brick</th>\n",
       "      <th>has_superstructure_timber</th>\n",
       "      <th>has_superstructure_bamboo</th>\n",
       "      <th>has_superstructure_rc_non_engineered</th>\n",
       "      <th>has_superstructure_rc_engineered</th>\n",
       "      <th>has_superstructure_other</th>\n",
       "    </tr>\n",
       "  </thead>\n",
       "  <tbody>\n",
       "    <tr>\n",
       "      <th>0</th>\n",
       "      <td>0.250</td>\n",
       "      <td>0.100</td>\n",
       "      <td>0.161290</td>\n",
       "      <td>0</td>\n",
       "      <td>1</td>\n",
       "      <td>0</td>\n",
       "      <td>0</td>\n",
       "      <td>0</td>\n",
       "      <td>0</td>\n",
       "      <td>0</td>\n",
       "      <td>1</td>\n",
       "      <td>0</td>\n",
       "      <td>0</td>\n",
       "      <td>0</td>\n",
       "      <td>0</td>\n",
       "      <td>0</td>\n",
       "      <td>0</td>\n",
       "      <td>0</td>\n",
       "      <td>0</td>\n",
       "      <td>0</td>\n",
       "    </tr>\n",
       "    <tr>\n",
       "      <th>1</th>\n",
       "      <td>0.125</td>\n",
       "      <td>0.125</td>\n",
       "      <td>0.129032</td>\n",
       "      <td>0</td>\n",
       "      <td>1</td>\n",
       "      <td>0</td>\n",
       "      <td>0</td>\n",
       "      <td>0</td>\n",
       "      <td>0</td>\n",
       "      <td>0</td>\n",
       "      <td>1</td>\n",
       "      <td>0</td>\n",
       "      <td>0</td>\n",
       "      <td>0</td>\n",
       "      <td>0</td>\n",
       "      <td>0</td>\n",
       "      <td>0</td>\n",
       "      <td>0</td>\n",
       "      <td>0</td>\n",
       "      <td>0</td>\n",
       "    </tr>\n",
       "    <tr>\n",
       "      <th>2</th>\n",
       "      <td>0.125</td>\n",
       "      <td>0.025</td>\n",
       "      <td>0.129032</td>\n",
       "      <td>0</td>\n",
       "      <td>1</td>\n",
       "      <td>0</td>\n",
       "      <td>0</td>\n",
       "      <td>0</td>\n",
       "      <td>0</td>\n",
       "      <td>0</td>\n",
       "      <td>1</td>\n",
       "      <td>0</td>\n",
       "      <td>0</td>\n",
       "      <td>0</td>\n",
       "      <td>0</td>\n",
       "      <td>0</td>\n",
       "      <td>0</td>\n",
       "      <td>0</td>\n",
       "      <td>0</td>\n",
       "      <td>0</td>\n",
       "    </tr>\n",
       "    <tr>\n",
       "      <th>3</th>\n",
       "      <td>0.000</td>\n",
       "      <td>0.000</td>\n",
       "      <td>0.064516</td>\n",
       "      <td>0</td>\n",
       "      <td>1</td>\n",
       "      <td>0</td>\n",
       "      <td>0</td>\n",
       "      <td>0</td>\n",
       "      <td>0</td>\n",
       "      <td>0</td>\n",
       "      <td>0</td>\n",
       "      <td>0</td>\n",
       "      <td>0</td>\n",
       "      <td>0</td>\n",
       "      <td>1</td>\n",
       "      <td>0</td>\n",
       "      <td>0</td>\n",
       "      <td>0</td>\n",
       "      <td>0</td>\n",
       "      <td>0</td>\n",
       "    </tr>\n",
       "    <tr>\n",
       "      <th>4</th>\n",
       "      <td>0.250</td>\n",
       "      <td>0.075</td>\n",
       "      <td>0.193548</td>\n",
       "      <td>0</td>\n",
       "      <td>1</td>\n",
       "      <td>0</td>\n",
       "      <td>0</td>\n",
       "      <td>0</td>\n",
       "      <td>0</td>\n",
       "      <td>0</td>\n",
       "      <td>1</td>\n",
       "      <td>0</td>\n",
       "      <td>0</td>\n",
       "      <td>0</td>\n",
       "      <td>0</td>\n",
       "      <td>0</td>\n",
       "      <td>0</td>\n",
       "      <td>0</td>\n",
       "      <td>0</td>\n",
       "      <td>0</td>\n",
       "    </tr>\n",
       "  </tbody>\n",
       "</table>\n",
       "</div>"
      ],
      "text/plain": [
       "   count_floors_pre_eq    age    height  L1  L2  F1  F2  F3  F4  \\\n",
       "0                0.250  0.100  0.161290   0   1   0   0   0   0   \n",
       "1                0.125  0.125  0.129032   0   1   0   0   0   0   \n",
       "2                0.125  0.025  0.129032   0   1   0   0   0   0   \n",
       "3                0.000  0.000  0.064516   0   1   0   0   0   0   \n",
       "4                0.250  0.075  0.193548   0   1   0   0   0   0   \n",
       "\n",
       "   has_superstructure_adobe_mud  has_superstructure_mud_mortar_stone  \\\n",
       "0                             0                                    1   \n",
       "1                             0                                    1   \n",
       "2                             0                                    1   \n",
       "3                             0                                    0   \n",
       "4                             0                                    1   \n",
       "\n",
       "   has_superstructure_stone_flag  has_superstructure_cement_mortar_stone  \\\n",
       "0                              0                                       0   \n",
       "1                              0                                       0   \n",
       "2                              0                                       0   \n",
       "3                              0                                       0   \n",
       "4                              0                                       0   \n",
       "\n",
       "   has_superstructure_mud_mortar_brick  \\\n",
       "0                                    0   \n",
       "1                                    0   \n",
       "2                                    0   \n",
       "3                                    0   \n",
       "4                                    0   \n",
       "\n",
       "   has_superstructure_cement_mortar_brick  has_superstructure_timber  \\\n",
       "0                                       0                          0   \n",
       "1                                       0                          0   \n",
       "2                                       0                          0   \n",
       "3                                       1                          0   \n",
       "4                                       0                          0   \n",
       "\n",
       "   has_superstructure_bamboo  has_superstructure_rc_non_engineered  \\\n",
       "0                          0                                     0   \n",
       "1                          0                                     0   \n",
       "2                          0                                     0   \n",
       "3                          0                                     0   \n",
       "4                          0                                     0   \n",
       "\n",
       "   has_superstructure_rc_engineered  has_superstructure_other  \n",
       "0                                 0                         0  \n",
       "1                                 0                         0  \n",
       "2                                 0                         0  \n",
       "3                                 0                         0  \n",
       "4                                 0                         0  "
      ]
     },
     "execution_count": 74,
     "metadata": {},
     "output_type": "execute_result"
    }
   ],
   "source": [
    "dftest.head()"
   ]
  },
  {
   "cell_type": "code",
   "execution_count": 75,
   "metadata": {},
   "outputs": [],
   "source": [
    "gbc_final = GradientBoostingClassifier(loss='deviance',learning_rate=1.1,n_estimators=110,\n",
    "                                       min_samples_split=8, min_samples_leaf=10, max_depth=1, max_features=8,\n",
    "                                       random_state=5, verbose=True, validation_fraction=0.2,\n",
    "                                       n_iter_no_change=5, tol=0.01)"
   ]
  },
  {
   "cell_type": "code",
   "execution_count": 76,
   "metadata": {},
   "outputs": [
    {
     "name": "stdout",
     "output_type": "stream",
     "text": [
      "      Iter       Train Loss   Remaining Time \n",
      "         1        6956.7080            1.70s\n",
      "         2        6790.8909            1.69s\n",
      "         3        6704.3892            1.67s\n",
      "         4        6633.6311            1.66s\n",
      "         5        6593.0788            1.64s\n",
      "         6        6564.9408            1.62s\n",
      "         7        6548.9011            1.47s\n",
      "         8        6526.9580            1.48s\n",
      "         9        6511.6546            1.48s\n",
      "        10        6500.5631            1.47s\n",
      "        20        6426.2482            1.18s\n"
     ]
    },
    {
     "data": {
      "text/plain": [
       "GradientBoostingClassifier(ccp_alpha=0.0, criterion='friedman_mse', init=None,\n",
       "                           learning_rate=1.1, loss='deviance', max_depth=1,\n",
       "                           max_features=8, max_leaf_nodes=None,\n",
       "                           min_impurity_decrease=0.0, min_impurity_split=None,\n",
       "                           min_samples_leaf=10, min_samples_split=8,\n",
       "                           min_weight_fraction_leaf=0.0, n_estimators=110,\n",
       "                           n_iter_no_change=5, presort='deprecated',\n",
       "                           random_state=5, subsample=1.0, tol=0.01,\n",
       "                           validation_fraction=0.2, verbose=True,\n",
       "                           warm_start=False)"
      ]
     },
     "execution_count": 76,
     "metadata": {},
     "output_type": "execute_result"
    }
   ],
   "source": [
    "gbc_final.fit(X,y)"
   ]
  },
  {
   "cell_type": "code",
   "execution_count": 77,
   "metadata": {},
   "outputs": [
    {
     "data": {
      "text/plain": [
       "array([3, 2, 2, ..., 2, 2, 2], dtype=int64)"
      ]
     },
     "execution_count": 77,
     "metadata": {},
     "output_type": "execute_result"
    }
   ],
   "source": [
    "gbc_final_pred = gbc_final.predict(dftest)\n",
    "gbc_final_pred"
   ]
  },
  {
   "cell_type": "code",
   "execution_count": 78,
   "metadata": {},
   "outputs": [
    {
     "data": {
      "text/plain": [
       "array([[0.02563428, 0.47584944, 0.49851628],\n",
       "       [0.04219585, 0.57359112, 0.38421304],\n",
       "       [0.04770162, 0.60967505, 0.34262333],\n",
       "       ...,\n",
       "       [0.0316433 , 0.54824268, 0.42011402],\n",
       "       [0.01767634, 0.60493548, 0.37738818],\n",
       "       [0.20708316, 0.67495766, 0.11795917]])"
      ]
     },
     "execution_count": 78,
     "metadata": {},
     "output_type": "execute_result"
    }
   ],
   "source": [
    "gbc_final_pred_proba = gbc_final.predict_proba(dftest)\n",
    "gbc_final_pred_proba"
   ]
  },
  {
   "cell_type": "code",
   "execution_count": 79,
   "metadata": {},
   "outputs": [],
   "source": [
    "result = pd.DataFrame(data=gbc_final_pred,columns=['damage_grade'])"
   ]
  },
  {
   "cell_type": "code",
   "execution_count": 80,
   "metadata": {},
   "outputs": [
    {
     "data": {
      "text/html": [
       "<div>\n",
       "<style scoped>\n",
       "    .dataframe tbody tr th:only-of-type {\n",
       "        vertical-align: middle;\n",
       "    }\n",
       "\n",
       "    .dataframe tbody tr th {\n",
       "        vertical-align: top;\n",
       "    }\n",
       "\n",
       "    .dataframe thead th {\n",
       "        text-align: right;\n",
       "    }\n",
       "</style>\n",
       "<table border=\"1\" class=\"dataframe\">\n",
       "  <thead>\n",
       "    <tr style=\"text-align: right;\">\n",
       "      <th></th>\n",
       "      <th>damage_grade</th>\n",
       "    </tr>\n",
       "  </thead>\n",
       "  <tbody>\n",
       "    <tr>\n",
       "      <th>0</th>\n",
       "      <td>3</td>\n",
       "    </tr>\n",
       "    <tr>\n",
       "      <th>1</th>\n",
       "      <td>2</td>\n",
       "    </tr>\n",
       "    <tr>\n",
       "      <th>2</th>\n",
       "      <td>2</td>\n",
       "    </tr>\n",
       "    <tr>\n",
       "      <th>3</th>\n",
       "      <td>1</td>\n",
       "    </tr>\n",
       "    <tr>\n",
       "      <th>4</th>\n",
       "      <td>3</td>\n",
       "    </tr>\n",
       "    <tr>\n",
       "      <th>...</th>\n",
       "      <td>...</td>\n",
       "    </tr>\n",
       "    <tr>\n",
       "      <th>86863</th>\n",
       "      <td>2</td>\n",
       "    </tr>\n",
       "    <tr>\n",
       "      <th>86864</th>\n",
       "      <td>3</td>\n",
       "    </tr>\n",
       "    <tr>\n",
       "      <th>86865</th>\n",
       "      <td>2</td>\n",
       "    </tr>\n",
       "    <tr>\n",
       "      <th>86866</th>\n",
       "      <td>2</td>\n",
       "    </tr>\n",
       "    <tr>\n",
       "      <th>86867</th>\n",
       "      <td>2</td>\n",
       "    </tr>\n",
       "  </tbody>\n",
       "</table>\n",
       "<p>86868 rows × 1 columns</p>\n",
       "</div>"
      ],
      "text/plain": [
       "       damage_grade\n",
       "0                 3\n",
       "1                 2\n",
       "2                 2\n",
       "3                 1\n",
       "4                 3\n",
       "...             ...\n",
       "86863             2\n",
       "86864             3\n",
       "86865             2\n",
       "86866             2\n",
       "86867             2\n",
       "\n",
       "[86868 rows x 1 columns]"
      ]
     },
     "execution_count": 80,
     "metadata": {},
     "output_type": "execute_result"
    }
   ],
   "source": [
    "result"
   ]
  },
  {
   "cell_type": "code",
   "execution_count": 81,
   "metadata": {},
   "outputs": [],
   "source": [
    "#Save results to csv\n",
    "#result.to_csv(\"result.csv\",index=False)"
   ]
  },
  {
   "cell_type": "code",
   "execution_count": null,
   "metadata": {},
   "outputs": [],
   "source": []
  },
  {
   "cell_type": "markdown",
   "metadata": {},
   "source": [
    "### OPTIONAL: Split data into 3 parts and train on X_valid Data"
   ]
  },
  {
   "cell_type": "markdown",
   "metadata": {},
   "source": [
    "### X_train = 80%, X_valid = 10%, X_test = 10%"
   ]
  },
  {
   "cell_type": "code",
   "execution_count": null,
   "metadata": {},
   "outputs": [],
   "source": [
    "X_train, X_test, y_train, y_test = train_test_split(X,y,test_size=0.10)"
   ]
  },
  {
   "cell_type": "code",
   "execution_count": null,
   "metadata": {},
   "outputs": [],
   "source": [
    "X_train.shape, y_train.shape"
   ]
  },
  {
   "cell_type": "code",
   "execution_count": null,
   "metadata": {},
   "outputs": [],
   "source": [
    "X_test.shape, y_test.shape"
   ]
  },
  {
   "cell_type": "code",
   "execution_count": null,
   "metadata": {},
   "outputs": [],
   "source": [
    "X_train, X_val, y_train, y_val = train_test_split(X_train,y_train,test_size=0.12)"
   ]
  },
  {
   "cell_type": "code",
   "execution_count": null,
   "metadata": {},
   "outputs": [],
   "source": [
    "X_train.shape, y_train.shape"
   ]
  },
  {
   "cell_type": "code",
   "execution_count": null,
   "metadata": {},
   "outputs": [],
   "source": [
    "X_val.shape, y_val.shape"
   ]
  },
  {
   "cell_type": "markdown",
   "metadata": {},
   "source": [
    "#####  ---------------------------------------------------------------------------------------------------------------------------------------------------------------------------------------------------"
   ]
  },
  {
   "cell_type": "markdown",
   "metadata": {},
   "source": [
    "### Baseline model (For Reference only)"
   ]
  },
  {
   "cell_type": "code",
   "execution_count": null,
   "metadata": {},
   "outputs": [],
   "source": [
    "gbc1 = GradientBoostingClassifier()"
   ]
  },
  {
   "cell_type": "code",
   "execution_count": null,
   "metadata": {},
   "outputs": [],
   "source": [
    "gbc1.fit(X_train,y_train)"
   ]
  },
  {
   "cell_type": "code",
   "execution_count": null,
   "metadata": {},
   "outputs": [],
   "source": [
    "y_pred1 = gbc1.predict(X_val)\n",
    "y_pred1"
   ]
  },
  {
   "cell_type": "code",
   "execution_count": null,
   "metadata": {},
   "outputs": [],
   "source": [
    "y_pred1proba = gbc1.predict_proba(X_val)\n",
    "y_pred1proba"
   ]
  },
  {
   "cell_type": "code",
   "execution_count": null,
   "metadata": {},
   "outputs": [],
   "source": [
    "print(accuracy_score(y_val,y_pred1))\n",
    "print(f1_score(y_val,y_pred1,average='micro'))\n",
    "print(precision_score(y_val,y_pred1,average='micro'))\n",
    "print(recall_score(y_val,y_pred1,average='micro'))\n",
    "print(log_loss(y_val,y_pred1proba))"
   ]
  },
  {
   "cell_type": "code",
   "execution_count": null,
   "metadata": {},
   "outputs": [],
   "source": [
    "print(classification_report(y_val,y_pred1))"
   ]
  },
  {
   "cell_type": "markdown",
   "metadata": {},
   "source": [
    "### Using XGBoost model"
   ]
  },
  {
   "cell_type": "code",
   "execution_count": null,
   "metadata": {},
   "outputs": [],
   "source": [
    "xgc = xgb.XGBClassifier(objective='multi:softprob')"
   ]
  },
  {
   "cell_type": "code",
   "execution_count": null,
   "metadata": {},
   "outputs": [],
   "source": [
    "xgc.fit(X_train,y_train)"
   ]
  },
  {
   "cell_type": "code",
   "execution_count": null,
   "metadata": {},
   "outputs": [],
   "source": [
    "xgc_pred1 = xgc.predict(X_val)\n",
    "xgc_pred1"
   ]
  },
  {
   "cell_type": "code",
   "execution_count": null,
   "metadata": {},
   "outputs": [],
   "source": [
    "print(accuracy_score(y_val,xgc_pred1))"
   ]
  },
  {
   "cell_type": "code",
   "execution_count": null,
   "metadata": {},
   "outputs": [],
   "source": [
    "print(classification_report(y_val,xgc_pred1))"
   ]
  },
  {
   "cell_type": "code",
   "execution_count": null,
   "metadata": {},
   "outputs": [],
   "source": [
    "print(accuracy_score(y_test,rs_pred))\n",
    "print(f1_score(y_test,rs_pred,average='micro'))\n",
    "print(precision_score(y_test,rs_pred,average='micro'))\n",
    "print(recall_score(y_test,rs_pred,average='micro'))"
   ]
  },
  {
   "cell_type": "code",
   "execution_count": null,
   "metadata": {},
   "outputs": [],
   "source": []
  }
 ],
 "metadata": {
  "kernelspec": {
   "display_name": "Python 3",
   "language": "python",
   "name": "python3"
  },
  "language_info": {
   "codemirror_mode": {
    "name": "ipython",
    "version": 3
   },
   "file_extension": ".py",
   "mimetype": "text/x-python",
   "name": "python",
   "nbconvert_exporter": "python",
   "pygments_lexer": "ipython3",
   "version": "3.7.6"
  }
 },
 "nbformat": 4,
 "nbformat_minor": 4
}
